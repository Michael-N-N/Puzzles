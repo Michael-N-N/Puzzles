{
 "cells": [
  {
   "cell_type": "markdown",
   "metadata": {},
   "source": [
    "# Can You Tip the Dominoes? (2025.03.07)\n",
    "\n",
    "link: https://thefiddler.substack.com/p/can-you-tip-the-dominoes"
   ]
  },
  {
   "cell_type": "markdown",
   "metadata": {},
   "source": [
    "## I. Puzzle"
   ]
  },
  {
   "cell_type": "markdown",
   "metadata": {},
   "source": [
    "You are placing many, many dominoes in a straight line, one at a time. However, each time you place a domino, there is a 1 percent chance that you accidentally tip it over, causing a chain reaction that tips over all dominoes you’ve placed. After a chain reaction, you start over again.\n",
    "\n",
    "If you do this many, many times, what can you expect the median (note: not the average) number of dominoes placed when a chain reaction occurs (including the domino that causes the chain reaction)? More precisely, if this median number is _M_, then you would expect to have placed fewer than _M_ dominoes at most half the time, and more than _M_ dominoes at most half the time."
   ]
  },
  {
   "cell_type": "markdown",
   "metadata": {},
   "source": [
    "# II. Solution"
   ]
  },
  {
   "cell_type": "markdown",
   "metadata": {},
   "source": [
    "The probability that a chain reaction occurs after the $x$-th domino was placed is given by\n",
    "\n",
    "$$P(x)=0.99^{(x-1)}\\cdot 0.01$$\n",
    "\n",
    "If we add this up for $x \\leq m$ we get the probability that the chain reaction occurs at the latest with the $m$-th domino:\n",
    "$$P(x \\leq m )=0.01+0.99^{1}\\cdot 0.01+0.99^{2}\\cdot 0.01+\\cdots +0.99^{(m-1)}\\cdot 0.01 $$\n",
    "\n",
    "This is a geometric series and we know that\n",
    "\n",
    "$$S_{n}=a+ar+ar^{2}+\\cdots+ar^{n-1}=\\frac{a(1-r^n)}{1-r}$$\n",
    "\n",
    "From that we get \n",
    "$$\\text{P}(x \\leq m )=\\frac {0.01 \\cdot (1-0.99^m)}{1-0.99}=1-0.99^m$$\n",
    "To find the median we are looking at \n",
    "$$\\text{P}(x \\leq m )=0.5 \\Leftrightarrow m \\approx  68.97$$\n",
    "Checking the the result we get $\\text{P}(68)\\approx  0.4951$ and $\\text{P}(69)\\approx  0.5002$.\n",
    "\n",
    "**Solution**: The median number of dominos is 69."
   ]
  }
 ],
 "metadata": {
  "kernelspec": {
   "display_name": "Python 3",
   "language": "python",
   "name": "python3"
  },
  "language_info": {
   "codemirror_mode": {
    "name": "ipython",
    "version": 3
   },
   "file_extension": ".py",
   "mimetype": "text/x-python",
   "name": "python",
   "nbconvert_exporter": "python",
   "pygments_lexer": "ipython3",
   "version": "3.12.0"
  }
 },
 "nbformat": 4,
 "nbformat_minor": 2
}
