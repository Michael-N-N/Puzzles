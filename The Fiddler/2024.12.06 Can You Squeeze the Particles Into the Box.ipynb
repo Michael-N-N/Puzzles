{
 "cells": [
  {
   "cell_type": "markdown",
   "metadata": {},
   "source": [
    "# Can You Squeeze the Particles Into the Box? (2024.12.06)\n",
    "\n",
    "link: https://thefiddler.substack.com/p/can-you-squeeze-the-particles-into"
   ]
  },
  {
   "cell_type": "markdown",
   "metadata": {},
   "source": [
    "## I. Puzzle"
   ]
  },
  {
   "cell_type": "markdown",
   "metadata": {},
   "source": [
    "You have three particles inside a unit square that all repel one another. The energy between each pair of particles is $1/r$, where $r$ is the distance between them. To be clear, the particles can be anywhere inside the square or on its perimeter. The total energy of the system is the sum of the three pairwise energies among the particles.\n",
    "\n",
    "What is the minimum energy of this system, and what arrangement of the particles produces it?"
   ]
  },
  {
   "cell_type": "markdown",
   "metadata": {},
   "source": [
    "# II. Solution"
   ]
  },
  {
   "cell_type": "markdown",
   "metadata": {},
   "source": [
    "Today is lazzy Sunday so we will do only a Monte-Carlo-Simulation:"
   ]
  },
  {
   "cell_type": "code",
   "execution_count": 2,
   "metadata": {},
   "outputs": [],
   "source": [
    "import numpy as np\n",
    "import math"
   ]
  },
  {
   "cell_type": "code",
   "execution_count": 5,
   "metadata": {},
   "outputs": [
    {
     "name": "stdout",
     "output_type": "stream",
     "text": [
      "Energy level: 2.7999\n",
      "Coordinates: [[0.01796558 0.99089033]\n",
      " [0.00297867 0.0157827 ]\n",
      " [0.98516305 0.09868654]]\n"
     ]
    }
   ],
   "source": [
    "energy_level = 100 # Start value\n",
    "trials = 10_000_000\n",
    "\n",
    "arr = np.random.rand(trials, 6)\n",
    "best_trial = []\n",
    "\n",
    "for trial in arr:\n",
    "\ttrial = np.reshape(trial, (3, 2))\n",
    "\tel = (1 / math.dist(trial[0],trial[1]) + 1 / math.dist(trial[1],trial[2]) +\n",
    "\t\t1 / math.dist(trial[2],trial[0]))\n",
    "\t\n",
    "\tif el < energy_level:\n",
    "\t\tenergy_level = el\n",
    "\t\tbest_trial = trial\n",
    "\n",
    "print(f'Energy level: {energy_level:.4f}')\n",
    "print(f'Coordinates: {best_trial}')\n"
   ]
  },
  {
   "cell_type": "markdown",
   "metadata": {},
   "source": [
    "All three particals are queite near a corner so we will  assume that the minimum energy level is reached when all three particals are on one corner. "
   ]
  },
  {
   "cell_type": "code",
   "execution_count": 6,
   "metadata": {},
   "outputs": [
    {
     "name": "stdout",
     "output_type": "stream",
     "text": [
      "The minimum energy level is approx. 2.71.\n"
     ]
    }
   ],
   "source": [
    "energy_level = 1/math.sqrt(2)+2\n",
    "\n",
    "print (f'The minimum energy level is approx. {energy_level:.2f}.')\n"
   ]
  }
 ],
 "metadata": {
  "kernelspec": {
   "display_name": "Python 3",
   "language": "python",
   "name": "python3"
  },
  "language_info": {
   "codemirror_mode": {
    "name": "ipython",
    "version": 3
   },
   "file_extension": ".py",
   "mimetype": "text/x-python",
   "name": "python",
   "nbconvert_exporter": "python",
   "pygments_lexer": "ipython3",
   "version": "3.12.0"
  }
 },
 "nbformat": 4,
 "nbformat_minor": 2
}
