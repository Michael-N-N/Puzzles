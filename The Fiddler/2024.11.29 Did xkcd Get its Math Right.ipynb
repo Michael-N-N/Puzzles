{
 "cells": [
  {
   "cell_type": "markdown",
   "metadata": {},
   "source": [
    "# Did xkcd Get its Math Right? (2024.11.29)\n",
    "\n",
    "link: https://thefiddler.substack.com/p/did-xkcd-get-its-math-right"
   ]
  },
  {
   "cell_type": "markdown",
   "metadata": {},
   "source": [
    "## I. Puzzle"
   ]
  },
  {
   "cell_type": "markdown",
   "metadata": {},
   "source": [
    "The question is, very simply: Is this comic mathematically correct?\n",
    "\n",
    "In other words, let $p$ represent the probability that if you randomly select two arrows from a group of 10 (five of which are cursed), neither arrow is cursed. And let $q$ represent the probability that if you roll three d6 dice (cubes with faces numbered 1 through 6) and one d4 die (a tetrahedron with faces numbered 1 through 4), the sum of the rolls is at least 16.\n",
    "\n",
    "Does $p$ equal $q$? If so, determine their common value. If not, determine the value of each."
   ]
  },
  {
   "cell_type": "markdown",
   "metadata": {},
   "source": [
    "# II. Solution"
   ]
  },
  {
   "cell_type": "markdown",
   "metadata": {},
   "source": [
    "The probability to pick two uncursed arrows from a quiver with 10 arrows where 5 of them are cursed is\n",
    "$$p = \\frac{\\binom{5}{2}}{\\binom{10}{2}}= \\frac{2}{9}$$\n",
    "For the probability $q$ to get at least a sum of 16 with the dice we will labelled the dice $1,..,4$ to make them distinguishable. Then there are \n",
    "\n",
    "$$6^3\\cdot 4 = 864$$\n",
    "permutations. To find the permutations where the sum of all dice is at least 16 we will count the permutation for each sum separately beginning with 22 and going down to 16.\n",
    "\n",
    "| Sum | Subtrahend | Allocation of the Subtrahend to the Dice             | Nb. of Permutations   |\n",
    "| --- | ---------- | ---------------------------------------------------- | --------------------- |\n",
    "| 22  | 0          |                                                      | 1                     |\n",
    "| 21  | 1          | 1                                                    | 4                     |\n",
    "| 20  | 2          | 2; 1+1                                               | 4+6 = 10              |\n",
    "| 19  | 3          | 3; 2+1; 1+1+1                                        | 4+12+4 = 20           |\n",
    "| 18  | 4          | 4; 3+1; 2+2; 2+1+1; 1+1+1+1                          | 3+12+6+12+1 = 34      |\n",
    "| 17  | 5          | 5; 4+1; 3+2; 3+1+1; 2+2+1; 2+1+1+1                   | 3+9+12+12+12+4 = 52   |\n",
    "| 16  | 6          | 5+1; 4+2; 4+1+1; 3+3; 3+2+1; 3+1+1+1; 2+2+2; 2+2+1+1 | 9+9+9+6+24+4+4+6 = 71 |\n",
    "|     |            | **Sum**                                              | **192**               |\n",
    "\n",
    "\n",
    "**Answer:** The probability $q$ is $\\frac{192}{846}= \\frac{2}{9}$ and therefore both events are equally likely."
   ]
  },
  {
   "cell_type": "markdown",
   "metadata": {},
   "source": [
    "## III. Scratch note\n",
    "We will check the probabilty $q$ with python:"
   ]
  },
  {
   "cell_type": "code",
   "execution_count": 1,
   "metadata": {},
   "outputs": [],
   "source": [
    "import itertools\n",
    "import numpy as np"
   ]
  },
  {
   "cell_type": "code",
   "execution_count": 29,
   "metadata": {},
   "outputs": [
    {
     "name": "stdout",
     "output_type": "stream",
     "text": [
      "Nb. of all permuations: \t 864\n",
      "Nb. of permuations with sum >15: 192\n"
     ]
    }
   ],
   "source": [
    "d6 = np.arange(1, 7)\n",
    "d4 = np.arange(1, 5)\n",
    "\n",
    "perm = (list(itertools.product(d6, d6, d6, d4)))\n",
    "print(f'Nb. of all permuations: \\t {len(perm)}') \n",
    "\n",
    "success = sum([1 for s in perm if sum(s) >= 16])\n",
    "print(f'Nb. of permuations with sum >15: {success}') "
   ]
  },
  {
   "cell_type": "markdown",
   "metadata": {},
   "source": [
    "## III. Simulation"
   ]
  },
  {
   "cell_type": "code",
   "execution_count": null,
   "metadata": {},
   "outputs": [
    {
     "name": "stdout",
     "output_type": "stream",
     "text": [
      "Arrows:\t 0.2222\n",
      "Dice:\t 0.2221\n"
     ]
    }
   ],
   "source": [
    "trials = 1_000_000\n",
    "\n",
    "# Arrows\n",
    "arr = np.array([True]*5 + [False]*5)# \n",
    "\n",
    "arrows = sum([sum(np.random.choice(arr, size=2, replace=False)) == 0 # \n",
    "\t\t\t  for _ in range(trials)])\n",
    "\n",
    "print(f'Arrows:\\t {arrows/trials:.4f}')\n",
    "\n",
    "# Dice\n",
    "d6 = np.random.randint(1, 7, [trials, 3]) \n",
    "d4 = np.random.randint(1, 5, trials)\n",
    "results = np.array([np.concatenate((a, [b])) for a, b in zip(d6, d4)])\n",
    "\n",
    "success = sum([1 for s in results if sum(s) >= 16])\n",
    "\n",
    "print(f'Dice:\\t {success/trials:.4f}')\n"
   ]
  }
 ],
 "metadata": {
  "kernelspec": {
   "display_name": "Python 3",
   "language": "python",
   "name": "python3"
  },
  "language_info": {
   "codemirror_mode": {
    "name": "ipython",
    "version": 3
   },
   "file_extension": ".py",
   "mimetype": "text/x-python",
   "name": "python",
   "nbconvert_exporter": "python",
   "pygments_lexer": "ipython3",
   "version": "3.12.0"
  }
 },
 "nbformat": 4,
 "nbformat_minor": 2
}
