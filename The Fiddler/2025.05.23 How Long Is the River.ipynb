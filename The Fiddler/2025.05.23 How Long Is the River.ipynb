{
 "cells": [
  {
   "cell_type": "markdown",
   "metadata": {},
   "source": [
    "# How Long Is the River? (2025.05.23)\n",
    "\n",
    "link: https://thefiddler.substack.com/p/how-long-is-the-river-of-text"
   ]
  },
  {
   "cell_type": "markdown",
   "metadata": {},
   "source": [
    "## I. Puzzle"
   ]
  },
  {
   "cell_type": "markdown",
   "metadata": {},
   "source": [
    "[...] Before getting to rivers, let’s figure out where spaces are likely to appear in the (fictional) Fiddlish language, which includes only three- and four-letter words. These words are separated by spaces, but there is no other punctuation.\n",
    "\n",
    "Suppose a line of Fiddlish text is generated such that each next word has a 50 percent chance of being three letters and a 50 percent chance of being four letters.\n",
    "\n",
    "Suppose a line has many, many, many words. What is the probability that any given character deep into the line is a space?"
   ]
  },
  {
   "cell_type": "markdown",
   "metadata": {},
   "source": [
    "# II. Solution"
   ]
  },
  {
   "cell_type": "markdown",
   "metadata": {},
   "source": [
    "We will assume that the text consists of $2n$ words where $2n$ is a very, very, very big number. Then the expected number of both three-letter words and four-letter-words is $n$ each. The expected number of letters is $3n+4n=7n$. As each word is followed by a space, the expected number of spaces in the text is $2n$. The probability that a given character is a space is\n",
    "\n",
    "$$\\frac{2n}{2n+7n}=\\frac{2}{9}\\approx 0.222$$\n"
   ]
  }
 ],
 "metadata": {
  "kernelspec": {
   "display_name": "Python 3",
   "language": "python",
   "name": "python3"
  },
  "language_info": {
   "codemirror_mode": {
    "name": "ipython",
    "version": 3
   },
   "file_extension": ".py",
   "mimetype": "text/x-python",
   "name": "python",
   "nbconvert_exporter": "python",
   "pygments_lexer": "ipython3",
   "version": "3.12.0"
  }
 },
 "nbformat": 4,
 "nbformat_minor": 2
}
