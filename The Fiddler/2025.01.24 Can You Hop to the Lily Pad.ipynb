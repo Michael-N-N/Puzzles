{
 "cells": [
  {
   "cell_type": "markdown",
   "metadata": {},
   "source": [
    "# Can You Hop to the Lily Pad? (2025.01.24)\n",
    "\n",
    "link: https://thefiddler.substack.com/p/can-you-hop-to-the-lily-pad"
   ]
  },
  {
   "cell_type": "markdown",
   "metadata": {},
   "source": [
    "## I. Puzzle"
   ]
  },
  {
   "cell_type": "markdown",
   "metadata": {},
   "source": [
    "You are a frog in a pond with four lily pads, marked “1” through “4.” You are currently on pad 2, and your goal is to make it to pad 1. From any given pad, there are specific probabilities that you’ll jump to another pad:\n",
    "\n",
    "- Once on pad 1, you will happily stay there forever.\n",
    "\n",
    "- From pad 2, there’s a 1-in-2 chance you’ll hop to pad 1, and a 1-in-2 chance you’ll hop to pad 3.\n",
    "\n",
    "- From pad 3, there’s a 1-in-3 chance you’ll hop to pad 2, and a 2-in-3 chance you’ll hop to pad 4.\n",
    "\n",
    "- Once on pad 4, you will unhappily stay there forever.\n",
    "\n",
    "Given that you are starting on pad 2, what is the probability that you will ultimately make it to pad 1 (as opposed to pad 4)?"
   ]
  },
  {
   "cell_type": "markdown",
   "metadata": {},
   "source": [
    "# II. Solution"
   ]
  },
  {
   "cell_type": "markdown",
   "metadata": {},
   "source": [
    "We solve ot with a Markov chain. The following table shows the transition probabitities:\n",
    "|from/to     | pad 1     | pad 2| pad 3| pad 4|\n",
    "| --- | --- |--- |--- |--- |\n",
    "|  pad 1   |   1  |     |     |     |\n",
    "|  pad 2   |  0.5   |     | 0.5    |     |\n",
    "|  pad 3   |     | 1/3    |     |  2/3   |\n",
    "|  pad 4   |     |     |     |   1  |"
   ]
  },
  {
   "cell_type": "code",
   "execution_count": 10,
   "metadata": {},
   "outputs": [
    {
     "name": "stdout",
     "output_type": "stream",
     "text": [
      "THe probability to get from pad 2 to pad 1 is 0.6.\n"
     ]
    }
   ],
   "source": [
    "import numpy as np\n",
    "\n",
    "matrix = np.zeros([4,4])\n",
    "\n",
    "matrix[0][0] = 1\n",
    "matrix[1][0] = 0.5\n",
    "matrix[1][2] = 0.5\n",
    "matrix[2][1] = 1/3\n",
    "matrix[2][3] = 2/3\n",
    "matrix[3][3] = 1\n",
    "\n",
    "mul_iteration = 100\n",
    "\n",
    "next_matrix = matrix\n",
    "\n",
    "for i in range(mul_iteration):\n",
    "\tnext_matrix = np.dot(matrix,next_matrix)\n",
    "\n",
    "next_matrix\n",
    "\n",
    "print(f'THe probability to get from pad 2 to pad 1 is {next_matrix[1][0]}.')"
   ]
  }
 ],
 "metadata": {
  "kernelspec": {
   "display_name": "Python 3",
   "language": "python",
   "name": "python3"
  },
  "language_info": {
   "codemirror_mode": {
    "name": "ipython",
    "version": 3
   },
   "file_extension": ".py",
   "mimetype": "text/x-python",
   "name": "python",
   "nbconvert_exporter": "python",
   "pygments_lexer": "ipython3",
   "version": "3.12.0"
  }
 },
 "nbformat": 4,
 "nbformat_minor": 2
}
