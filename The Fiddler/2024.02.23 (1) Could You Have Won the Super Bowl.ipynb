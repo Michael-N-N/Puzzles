{
 "cells": [
  {
   "cell_type": "markdown",
   "metadata": {},
   "source": [
    "# Could You Have Won the Super Bowl? (1) (2024.04.23)\n",
    "\n",
    "link: https://thefiddler.substack.com/p/could-you-have-won-the-super-bowl"
   ]
  },
  {
   "cell_type": "markdown",
   "metadata": {},
   "source": [
    "## I. Puzzle"
   ]
  },
  {
   "cell_type": "markdown",
   "metadata": {},
   "source": [
    "And so, this week, it’s your turn to play coach. Football is complicated, so let’s assume a simplified scoring model. (Because this is just a model, our goal here isn’t necessarily to vindicate San Francisco’s coach, but rather to have fun with some of the math involved.)\n",
    "\n",
    "Every time your team is on offense, suppose there’s a 1-in-3 chance they score a touchdown (which we’ll say is worth a total of 7 points, as we won’t bother with 2-point conversions here), a 1-in-3 chance they score a field goal (worth 3 points), and a 1-in-3 chance they don’t score any points (i.e., they punt or turn the ball over on downs). After any of these three things happens, your team will then be on defense.\n",
    "\n",
    "Now, here’s how overtime will work: Your team is on offense first. No matter how many points your team does or does not score, the other team then gets a chance at offense. If the game is still tied beyond this point, the teams will continue alternating between offense and defense. Whichever team scores next wins immediately.Again, your team is on offense first. \n",
    "\n",
    "What is your team’s probability of winning?"
   ]
  },
  {
   "cell_type": "markdown",
   "metadata": {},
   "source": [
    "# II. Solution"
   ]
  },
  {
   "cell_type": "markdown",
   "metadata": {},
   "source": [
    "The probability for a draw after both teams were in the offense once is $3 \\cdot(1/3)^2 = 1/3$. With a probability of $1-1/3=2/3$ one of the teams is the winner. As the winning chances are identical for both teams, each team has a winning chance of $1/3$.\n",
    "\n",
    "If there is a draw our team will score and therefore win with a probability of $2/3$. If not  \n",
    "After the first round our team is in favour as we begin with the offense and the other team won't get the chace to score of we scored first.\n",
    "\n",
    "The probability for our team to score/win is:\n",
    "\n",
    "$$p_a=\\frac{2}{3}+\\Big(\\frac{1}{3}\\Big)^2\\cdot \\frac{2}{3}+\\Big(\\frac{1}{3}\\Big)^4\\cdot \\frac{2}{3}+\\cdots$$\n",
    "\n",
    "For the other team the probability is:\n",
    "$$p_b=\\Big(\\frac{1}{3}\\Big)^1\\cdot \\frac{2}{3}+\\Big(\\frac{1}{3}\\Big)^3\\cdot \\frac{2}{3}+\\Big(\\frac{1}{3}\\Big)^5\\cdot \\frac{2}{3}+\\cdots=\\frac{1}{3}\\cdot\\Big[\\frac{2}{3}+\\Big(\\frac{1}{3}\\Big)^2\\cdot \\frac{2}{3}+\\Big(\\frac{1}{3}\\Big)^4\\cdot \\frac{2}{3}+\\cdots\\Big]$$\n",
    "\n",
    "The probability to in after the first round is \n",
    "\n",
    "$$\\frac{p_a}{p_a+p_b}= \\frac{1}{1+1/3}=\\frac{3}{4}$$\n",
    "\n",
    "\n",
    "**Solution:** Our team will win with a probability of \n",
    "\n",
    "$$\\frac{1}{3}+ \\frac{1}{3}\\cdot\\frac{3}{4}= \\frac{7}{12}\\approx 0.583$$\n",
    "\n"
   ]
  },
  {
   "cell_type": "markdown",
   "metadata": {},
   "source": [
    "## III. Monte-Carlo-Simulation"
   ]
  },
  {
   "cell_type": "code",
   "execution_count": 47,
   "metadata": {},
   "outputs": [
    {
     "name": "stdout",
     "output_type": "stream",
     "text": [
      "Solution: Our team win with a probability of 58.37%.\n"
     ]
    }
   ],
   "source": [
    "import numpy as np\n",
    "\n",
    "n_victory = 0\n",
    "trials = 500000\n",
    "\n",
    "scores = np.array((0,3,7))\n",
    "\n",
    "for trial in range(trials):\n",
    "\tresult = np.random.choice(scores)-np.random.choice(scores)\n",
    "\tif result > 0:\n",
    "\t\tn_victory += 1\n",
    "\t\tcontinue\n",
    "\telif result < 0:\n",
    "\t\tcontinue\n",
    "\n",
    "\tteam_on_offense = True\n",
    "\twhile True:\n",
    "\t\tif np.random.choice(scores) > 0:\n",
    "\t\t\tif team_on_offense:\n",
    "\t\t\t\tn_victory += 1\n",
    "\t\t\t\tbreak\n",
    "\t\t\telse:\n",
    "\t\t\t\tbreak\n",
    "\t\tteam_on_offense = not(team_on_offense)\n",
    "\n",
    "print(f'Solution: Our team win with a probability of {n_victory/trials*100:.2f}%.')"
   ]
  }
 ],
 "metadata": {
  "kernelspec": {
   "display_name": "Python 3",
   "language": "python",
   "name": "python3"
  },
  "language_info": {
   "codemirror_mode": {
    "name": "ipython",
    "version": 3
   },
   "file_extension": ".py",
   "mimetype": "text/x-python",
   "name": "python",
   "nbconvert_exporter": "python",
   "pygments_lexer": "ipython3",
   "version": "3.12.0"
  }
 },
 "nbformat": 4,
 "nbformat_minor": 2
}
