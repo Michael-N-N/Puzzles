{
 "cells": [
  {
   "cell_type": "markdown",
   "metadata": {},
   "source": [
    "# Can You Race Across the Chess Board? (1) Express (2024.01.26)\n",
    "\n",
    "link: https://thefiddler.substack.com/p/can-you-race-across-the-chess-board"
   ]
  },
  {
   "cell_type": "markdown",
   "metadata": {},
   "source": [
    "## I. Puzzle"
   ]
  },
  {
   "cell_type": "markdown",
   "metadata": {},
   "source": [
    "A very tiny Alice is racing across a 2-by-2 chessboard, as shown below, where each smaller square has a side length of 1 cm. Alice starts at the bottom-left corner of the bottom-left black square and is trying to reach the top-right corner of the top-right black square.\n",
    "...image...\n",
    "There’s just one catch. Alice moves faster on the white squares than she does on the black squares. Her speed on the white squares is 1 cm per minute (again, she’s very small), while her speed on the black squares is 0.9 cm per minute.What’s the least amount of time it will take her to reach the finish?"
   ]
  },
  {
   "cell_type": "markdown",
   "metadata": {},
   "source": [
    "# II. Solution"
   ]
  },
  {
   "cell_type": "markdown",
   "metadata": {},
   "source": [
    "If Alice takes the shortest way, she will walk on a straight line from start to finish und will arrive after  $$\\frac{\\sqrt{2 \\cdot 2^2}}{0.9} \\approx 3.143 \\text{ [min].}$$\n",
    "\n",
    "She can arrive earlier if she'll leave the shortest path and walk over the faster white squares. To find an optimal path we need to calculate the point $x$ where she enters the white square. As the map is symmetrical the point $x$ has the same relative position to the finish as to the start (after a 180° rotation.) \n",
    "\n",
    "With the help of Pythagoras the duration to walk this path is\n",
    "\n",
    "$$f(x) =  2\\cdot\\frac{\\sqrt{1+x^2}}{0.9}+\\sqrt{2(1-x^2)}.$$\n",
    "\n",
    "To find the minimum duration we set the derivative of $f$ to zero:\n",
    "\n",
    "$$F(x) = 0$$\n",
    "$$\\frac{20}{9} \\frac{x}{\\sqrt{1+x^2}} - \\sqrt{2} = 0$$\n",
    "$$x \\approx 0.825$$ \n",
    "Therefore, Alice will arrive after $f(0.825) \\approx 3.128$ minutes.\n",
    "'\n"
   ]
  }
 ],
 "metadata": {
  "kernelspec": {
   "display_name": "Python 3",
   "language": "python",
   "name": "python3"
  },
  "language_info": {
   "codemirror_mode": {
    "name": "ipython",
    "version": 3
   },
   "file_extension": ".py",
   "mimetype": "text/x-python",
   "name": "python",
   "nbconvert_exporter": "python",
   "pygments_lexer": "ipython3",
   "version": "3.12.0"
  }
 },
 "nbformat": 4,
 "nbformat_minor": 2
}
