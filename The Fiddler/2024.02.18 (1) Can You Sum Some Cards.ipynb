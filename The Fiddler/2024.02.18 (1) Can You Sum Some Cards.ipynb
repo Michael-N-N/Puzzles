{
 "cells": [
  {
   "cell_type": "markdown",
   "metadata": {},
   "source": [
    "# Can You Sum Some Cards? (1) Express (2024.02.18)\n",
    "\n",
    "link: https://thefiddler.substack.com/p/can-you-sum-some-cards"
   ]
  },
  {
   "cell_type": "markdown",
   "metadata": {},
   "source": [
    "## I. Puzzle\n",
    "You and a friend have a large deck of cards, all of which are numbered 1, 2, 3, or 4. There are many of each of these numbers in the deck.\n",
    "\n",
    "You alternate placing down one card at a time in a pile. If, at any point, the sum of the most recently played group of cards equals the sum of a group of cards played immediately before them, then you and your friend both slap the pile. Whoever slaps first wins the pile.\n",
    "\n",
    "Here are some sequences of cards that would be slapped once the last card in the sequence is played:\n",
    "\n",
    "- 3, 2, 3, 4, 1 (because the last two cards have a sum equal to that of the two cards prior)\n",
    "- 1, 2, 4, 3, 3 (because the last one card has a “sum” equal to that of the one card prior)\n",
    "- 2, 3, 1, 2 (because the last two cards have a sum equal to that of the one card prior)\n",
    "\n",
    "How many cards are in the longest possible sequence that is never slapped?\n",
    "\n",
    "By the way, if you’re someone who’s just dying to see a Fiddler in more concise (and precise) mathematical language, then you’re in luck this week! Here’s the very same puzzle, but without that bothersome card game:\n",
    "\n",
    "Determine the maximum k for which there exists a sequence $a_1, a_2, \\dots a_k \\in {1, 2, 3, 4}$, such that for all values $p, q, r$ with $1 ≤ p ≤ q < r ≤ k$ it is never true that\n",
    "\n",
    "$$\\sum_{m=p}^{q}{a_m} = \\sum_{n=q+1}^{r}{a_n}.$$"
   ]
  },
  {
   "cell_type": "markdown",
   "metadata": {},
   "source": [
    "# II. Solution"
   ]
  },
  {
   "cell_type": "code",
   "execution_count": 20,
   "metadata": {},
   "outputs": [
    {
     "name": "stdout",
     "output_type": "stream",
     "text": [
      "Length of sequence: Nb. of no-slap sequence\n",
      "1:\t 4\n",
      "2:\t 12\n",
      "3:\t 28\n",
      "4:\t 48\n",
      "5:\t 71\n",
      "6:\t 80\n",
      "7:\t 60\n",
      "8:\t 6\n",
      "9:\t 1\n",
      "==> [[1, 4, 3, 4, 2, 4, 3, 4, 1]]\n",
      "10:\t 0\n"
     ]
    }
   ],
   "source": [
    "def add_new_card(card_sequence_arr):\n",
    "\tnew_list = []\n",
    "\tfor seq in card_sequence_arr:\n",
    "\t\tfor i in range(1,5):\n",
    "\t\t\tnew_list.append(seq +[i])\t\n",
    "\treturn new_list\n",
    "\n",
    "def check_sums(card_sequence_arr):\n",
    "\tnew_list = []\n",
    "\tfor seq in card_sequence_arr:\n",
    "\t\tno_slap = True\n",
    "\t\tfor i in range(len(seq), 0, -1):\n",
    "\t\t\tfor j in range(0, i-1, 1):\n",
    "\t\t\t\tif sum(seq[i-1:]) == sum(seq[j:i-1]):\n",
    "\t\t\t\t\tno_slap = False\n",
    "\t\t\n",
    "\t\tif no_slap:\n",
    "\t\t\tnew_list.append(seq)\n",
    "\t\n",
    "\treturn\tnew_list\n",
    "\n",
    "print(f'Length of sequence: Nb. of no-slap sequence')\n",
    "\n",
    "card_sequence_arr = [[]]\n",
    "\n",
    "for rounds in range(1,11):\n",
    "\tcard_sequence_arr = check_sums(add_new_card(card_sequence_arr))\n",
    "\n",
    "\tprint(f'{rounds}:\\t {len(card_sequence_arr)}')\n",
    "\n",
    "\tif len(card_sequence_arr) == 1:\n",
    "\t\tprint(f'==> {card_sequence_arr}')\n",
    "\n"
   ]
  }
 ],
 "metadata": {
  "kernelspec": {
   "display_name": "Python 3",
   "language": "python",
   "name": "python3"
  },
  "language_info": {
   "codemirror_mode": {
    "name": "ipython",
    "version": 3
   },
   "file_extension": ".py",
   "mimetype": "text/x-python",
   "name": "python",
   "nbconvert_exporter": "python",
   "pygments_lexer": "ipython3",
   "version": "3.12.0"
  }
 },
 "nbformat": 4,
 "nbformat_minor": 2
}
