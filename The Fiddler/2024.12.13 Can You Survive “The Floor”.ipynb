{
 "cells": [
  {
   "cell_type": "markdown",
   "metadata": {},
   "source": [
    "# Can You Survive “The Floor”? (2024.12.13)\n",
    "\n",
    "link: https://thefiddler.substack.com/p/can-you-survive-the-floor"
   ]
  },
  {
   "cell_type": "markdown",
   "metadata": {},
   "source": [
    "## I. Puzzle"
   ]
  },
  {
   "cell_type": "markdown",
   "metadata": {},
   "source": [
    "In the game show, The Floor, 100 contestants are assigned to spaces on a 10×10 square grid. Over the course of a season, they compete one-on-one against their immediate neighbors by answering trivia questions. The loser of each duel is eliminated, and the square or squares they control are consigned to the winner.\n",
    "\n",
    "Let’s consider a slightly simplified version of The Floor with nine contestants on a 3×3 square grid. Each round of the game consists of the following steps:\n",
    "\n",
    "- One of the remaining contestants is chosen at random. (Note that each contestant is equally likely to be chosen, regardless of how many squares they currently control.)\n",
    "- The set of eligible opponents for this contestant is anyone whose territory shares a common edge with the contestant. One of these eligible opponents is chosen at random. (Again, all eligible opponents are equally likely to be chosen, regardless of how many squares they control or how many edges they have in common with the opponent.)\n",
    "- The contestant and their selected opponent have a duel, each with a 50 percent chance of winning. The loser is eliminated, and their territory is added to that of the winner.\n",
    "\n",
    "These rounds repeat until one contestant remains, and that contestant is the overall winner.\n",
    "\n",
    "You are a contestant on a new season of this 3×3 version of The Floor. The nine positions on the grid are shown below: ...\n",
    "\n",
    "Which position would you choose? That is, which position or positions give you the best chance of being the overall winner?"
   ]
  },
  {
   "cell_type": "markdown",
   "metadata": {},
   "source": [
    "# II. Solution"
   ]
  },
  {
   "cell_type": "markdown",
   "metadata": {},
   "source": [
    "We will solve this with a Monte Carlo simulation. "
   ]
  },
  {
   "cell_type": "code",
   "execution_count": 1,
   "metadata": {},
   "outputs": [],
   "source": [
    "import numpy as np\n",
    "import matplotlib.pyplot as plt\n",
    "from collections import Counter"
   ]
  },
  {
   "cell_type": "code",
   "execution_count": 8,
   "metadata": {},
   "outputs": [],
   "source": [
    "def simulate_game(n_rows, n_columns, trials):\n",
    "\twinner_arr = []\n",
    "\n",
    "\t# Create a grid\n",
    "\tgrid = np.concatenate((\t\t\t\n",
    "\t\t\t\tnp.zeros(n_columns),\t# Add 'border' with zeros for easier handling later \n",
    "\t\t\t\tlist(np.arange(1, (n_columns * n_rows) + 1)),\n",
    "\t\t\t\tnp.zeros(n_columns))\n",
    "\t\t\t).reshape(n_rows + 2, n_columns)\n",
    "\n",
    "\tgrid = np.vstack((\t\t\n",
    "\t\t\t\tnp.zeros(n_rows + 2), \n",
    "\t\t\t\tgrid.T, \n",
    "\t\t\t\tnp.zeros(n_rows + 2))\n",
    "\t\t\t).T.astype(int)\n",
    "\n",
    "\t# Create a dictionary with adjacent_space to a given space\n",
    "\tadjacent_space  = {}\n",
    "\tfor r_index, row in enumerate(grid):\n",
    "\t\tfor c_index, space in enumerate(row):\n",
    "\t\t\tif space == 0:\tcontinue\n",
    "\n",
    "\t\t\tlst = [\n",
    "\t\t\t\tgrid[r_index - 1, c_index],\n",
    "\t\t\t\tgrid[r_index + 1, c_index],\n",
    "\t\t\t\tgrid[r_index, c_index - 1],\n",
    "\t\t\t\tgrid[r_index, c_index + 1]]\n",
    "\n",
    "\t\t\tadjacent_space[space] = [z for z in lst if z != 0]\n",
    "\n",
    "\tfor _ in range(trials):\n",
    "\t\towned_spaces = {space: [space] for space in range(1, (n_columns * n_rows) + 1)}  # player: list[spaces]\n",
    "\n",
    "\t\trounds = n_rows * n_columns - 1\n",
    "\t\tfor _ in range(rounds):\n",
    "\t\t\t\n",
    "\t\t\tplayer_1 = np.random.choice(list(owned_spaces.keys()))\n",
    "\n",
    "\t\t\tplayer_1_adjacent_spaces = [\n",
    "\t\t\t\tadjacent_space[l] \n",
    "\t\t\t\tfor l \n",
    "\t\t\t\tin owned_spaces[player_1]]\n",
    "\n",
    "\t\t\tplayer_1_adjacent_spaces_flat = [\n",
    "\t\t\t\titem \n",
    "\t\t\t\tfor sublist in player_1_adjacent_spaces \n",
    "\t\t\t\tfor item in sublist \n",
    "\t\t\t\tif item not in owned_spaces[player_1]]\n",
    "\n",
    "\t\t\tpossible_opponents = [\n",
    "\t\t\t\tkey \n",
    "\t\t\t\tfor key, value \n",
    "\t\t\t\tin owned_spaces.items()  \n",
    "\t\t\t\tfor space in player_1_adjacent_spaces_flat \n",
    "\t\t\t\tif space in value]\n",
    "\n",
    "\t\t\tplayer_2 = np.random.choice(possible_opponents)\n",
    "\n",
    "\t\t\tif np.random.random() > 0.5:  \n",
    "\t\t\t\tloser, winner = player_1, player_2\n",
    "\t\t\telse:\n",
    "\t\t\t\tloser, winner = player_2, player_1\n",
    "\n",
    "\t\t\towned_spaces[winner] = owned_spaces[winner] + owned_spaces[loser] \n",
    "\t\t\tdel owned_spaces[loser] \n",
    "\t\t\n",
    "\t\twinner_arr.append(list(owned_spaces.keys())[0])\n",
    "\n",
    "\t# Create a diagram\n",
    "\tfig, ax = plt.subplots()\n",
    "\n",
    "\tprob_dict = {key: value/len(winner_arr) for key, value in Counter(winner_arr).items()}\n",
    "\tprob_arr = np.array([prob_dict[p] for p in range(1,(n_columns * n_rows) + 1)]).reshape(n_rows, n_columns)\n",
    "\n",
    "\t_ = ax.matshow(prob_arr, cmap='coolwarm_r', alpha=1) \n",
    "\n",
    "\tfor (i, j), value in np.ndenumerate(prob_arr):\n",
    "\t\tax.text(j, i, f'{value:.3f}', ha='center', va='center', color='black')\n",
    "\t\t\n",
    "\tplt.axis('off')\n",
    "\n",
    "\n",
    "\n"
   ]
  },
  {
   "cell_type": "code",
   "execution_count": 10,
   "metadata": {},
   "outputs": [
    {
     "data": {
      "text/plain": [
       "array([[0.133824, 0.097504, 0.132928],\n",
       "       [0.097116, 0.075416, 0.097972],\n",
       "       [0.13396 , 0.098172, 0.133108]])"
      ]
     },
     "execution_count": 10,
     "metadata": {},
     "output_type": "execute_result"
    },
    {
     "data": {
      "image/png": "[encoded data removed]",
      "text/plain": [
       "<Figure size 640x480 with 1 Axes>"
      ]
     },
     "metadata": {},
     "output_type": "display_data"
    }
   ],
   "source": [
    "simulate_game(3, 3, 250_000)"
   ]
  },
  {
   "cell_type": "markdown",
   "metadata": {},
   "source": [
    "**Solution:** The highest chances to win have the players in the corner spaces with a probability of approx. 0.133 each."
   ]
  }
 ],
 "metadata": {
  "kernelspec": {
   "display_name": "Python 3",
   "language": "python",
   "name": "python3"
  },
  "language_info": {
   "codemirror_mode": {
    "name": "ipython",
    "version": 3
   },
   "file_extension": ".py",
   "mimetype": "text/x-python",
   "name": "python",
   "nbconvert_exporter": "python",
   "pygments_lexer": "ipython3",
   "version": "3.12.0"
  }
 },
 "nbformat": 4,
 "nbformat_minor": 2
}
