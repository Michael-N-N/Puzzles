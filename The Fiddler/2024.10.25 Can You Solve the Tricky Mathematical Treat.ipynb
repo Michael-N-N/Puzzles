{
 "cells": [
  {
   "cell_type": "markdown",
   "metadata": {},
   "source": [
    "# Can You Solve the Tricky Mathematical Treat? (2024.10.25)\n",
    "\n",
    "link: https://thefiddler.substack.com/p/can-you-solve-the-tricky-mathematical"
   ]
  },
  {
   "cell_type": "markdown",
   "metadata": {},
   "source": [
    "## I. Puzzle"
   ]
  },
  {
   "cell_type": "markdown",
   "metadata": {},
   "source": [
    "You ring the doorbell, and someone dressed as a mathematician answers. (What does a “mathematician” costume look like? Look in the mirror!) They present you with a giant bag from which to pick candy, and inform you that the bag contains exactly three peanut butter cups (your favorite!), while the rest are individual kernels of candy corn (not your favorite!).\n",
    "\n",
    "You have absolutely no idea how much candy corn is in the bag—any whole number of kernels (including zero) seems equally possible in this monstrous bag.\n",
    "\n",
    "You reach in and pull out a candy at random (that is, each piece of candy is equally likely to be picked, whether it’s a peanut butter cup or a kernel of candy corn). You remove your hand from the bag to find that you’ve picked a peanut butter cup. Huzzah!\n",
    "\n",
    "You reach in again and pull a second candy at random. It’s another peanut butter cup! You reach in one last time and pull a third candy at random. It’s the third peanut butter cup!\n",
    "\n",
    "At this point, whatever is left in the bag is just candy corn. How many candy corn kernels do you expect to be in the bag?"
   ]
  },
  {
   "cell_type": "markdown",
   "metadata": {},
   "source": [
    "# II. Solution"
   ]
  },
  {
   "cell_type": "markdown",
   "metadata": {},
   "source": [
    "We start with the probability $P$ that we draw 3 peanut butter cups from a bag with $C$ candies. "
   ]
  },
  {
   "cell_type": "markdown",
   "metadata": {},
   "source": [
    "The probability is hypergeometric distributed as we draw $n$ times without replacement from a bag with $B$ peanut butter cups and $1-B$ candy corns and we measure the numbers of successes $y$.\n",
    "\n",
    "$$P(y\\,|\\,C, B,n)= \\frac{\\binom{B}{Y}\\binom{C-B}{n-y}}{\\binom{C}{N}}$$"
   ]
  },
  {
   "cell_type": "markdown",
   "metadata": {},
   "source": [
    "With $n=3$, $B=3$ and $y=3$ we get\n",
    "\n",
    "$$P(y=3\\,|\\,C)= \\binom{C}{3}^{-1}\\:\\text{ with } C\\geq 3\\tag{1}$$\n"
   ]
  },
  {
   "cell_type": "code",
   "execution_count": 1,
   "metadata": {},
   "outputs": [],
   "source": [
    "from math import comb\n",
    "import numpy as np\n",
    "import matplotlib.pyplot as plt"
   ]
  },
  {
   "cell_type": "code",
   "execution_count": 2,
   "metadata": {},
   "outputs": [
    {
     "data": {
      "image/png": "[encoded data removed]",
      "text/plain": [
       "<Figure size 1000x600 with 1 Axes>"
      ]
     },
     "metadata": {},
     "output_type": "display_data"
    }
   ],
   "source": [
    "B = np.arange(3, 11) \n",
    "P = [1 / comb(B, 3) for B in B]\n",
    "\n",
    "plt.figure(figsize=(10, 6))\n",
    "plt.plot(B,P,\"ro\")\n",
    "\n",
    "plt.grid(True)\n",
    "plt.title(\"Probability to draw 3 peanut butter cups from a bag with $C$ candies\", fontsize=14)\n",
    "plt.xlabel(\"Number of candies before first draw\", fontsize=12)\n",
    "plt.ylabel(\"Probability\", fontsize=12)\n",
    "plt.show()"
   ]
  },
  {
   "cell_type": "markdown",
   "metadata": {},
   "source": [
    "Equation (1) gives us the probability $P$ that we draw 3 peanut butter cups given that there are $C$ candies in the bag. To get the probability that there are $C$ candies in the bag given that we have drawn 3 peanut butter cups we use the Bayes theorem.\n",
    "\n",
    "We label all possible bags $G_i$ where the number of cookies in a bag is $i+2$  with $i \\geq 1$."
   ]
  },
  {
   "cell_type": "markdown",
   "metadata": {},
   "source": [
    "According to the Bayes theorem the probability $P_{i}$ that the cookies came from a bag $G_j$ where $1 \\leq j \\leq i$ and given that we have drawn 3 peanut butter cups is:\n",
    "\n",
    "$$P_{i}(G_j\\,|\\,y=3)= \\frac{P(y=3\\,|\\,G_j)\\cdot P(G_i)}{P(y=3)}\\tag{2}$$"
   ]
  },
  {
   "cell_type": "markdown",
   "metadata": {},
   "source": [
    "The likelihood $P(3\\,|\\,G_j)$ is derived from equation (1) and $C = j+2$\n",
    "$$P(y=3\\,|\\,G_j)= \\binom{j+2}{3}^{-1}\\tag{3}$$"
   ]
  },
  {
   "cell_type": "markdown",
   "metadata": {},
   "source": [
    "Before we draw any cookie we assume that all bag sizes are equally likely so that $$P(G_i)= 1 / i\\tag{4}$$"
   ]
  },
  {
   "cell_type": "markdown",
   "metadata": {},
   "source": [
    "$P(y=3)$ gives us the total probability for all possible bags. It can be computed using the law of total probability:\n",
    "\n",
    "$$P(y=3) = \\sum_{k=1}^{i} P(G_k)\\cdot P(y=3\\,|\\,G_k) = \\frac{1}{i} \\sum_{k=1}^{i} \\binom{k+2}{3}^{-1} \\tag{5}$$"
   ]
  },
  {
   "cell_type": "markdown",
   "metadata": {},
   "source": [
    "Putting (3), (4) and (5) into (2) we get\n",
    "\n",
    "$$P_{i}(G_j\\,|\\,y=3)=\\frac{1}{\\binom{j+2}{3} \\sum_i \\binom{i+2}{3}^{-1}}\\tag{6}$$"
   ]
  },
  {
   "cell_type": "code",
   "execution_count": 3,
   "metadata": {},
   "outputs": [],
   "source": [
    "import pandas as pd"
   ]
  },
  {
   "cell_type": "code",
   "execution_count": 31,
   "metadata": {},
   "outputs": [
    {
     "data": {
      "text/html": [
       "<div>\n",
       "<style scoped>\n",
       "    .dataframe tbody tr th:only-of-type {\n",
       "        vertical-align: middle;\n",
       "    }\n",
       "\n",
       "    .dataframe tbody tr th {\n",
       "        vertical-align: top;\n",
       "    }\n",
       "\n",
       "    .dataframe thead th {\n",
       "        text-align: right;\n",
       "    }\n",
       "</style>\n",
       "<table border=\"1\" class=\"dataframe\">\n",
       "  <thead>\n",
       "    <tr style=\"text-align: right;\">\n",
       "      <th></th>\n",
       "      <th>Bag</th>\n",
       "      <th>Prior</th>\n",
       "      <th>Likelihood</th>\n",
       "      <th>Unnorm</th>\n",
       "      <th>Posterior</th>\n",
       "    </tr>\n",
       "  </thead>\n",
       "  <tbody>\n",
       "    <tr>\n",
       "      <th>0</th>\n",
       "      <td>1</td>\n",
       "      <td>0.0002</td>\n",
       "      <td>1.000000</td>\n",
       "      <td>0.000200</td>\n",
       "      <td>0.666667</td>\n",
       "    </tr>\n",
       "    <tr>\n",
       "      <th>1</th>\n",
       "      <td>2</td>\n",
       "      <td>0.0002</td>\n",
       "      <td>0.250000</td>\n",
       "      <td>0.000050</td>\n",
       "      <td>0.166667</td>\n",
       "    </tr>\n",
       "    <tr>\n",
       "      <th>2</th>\n",
       "      <td>3</td>\n",
       "      <td>0.0002</td>\n",
       "      <td>0.100000</td>\n",
       "      <td>0.000020</td>\n",
       "      <td>0.066667</td>\n",
       "    </tr>\n",
       "    <tr>\n",
       "      <th>3</th>\n",
       "      <td>4</td>\n",
       "      <td>0.0002</td>\n",
       "      <td>0.050000</td>\n",
       "      <td>0.000010</td>\n",
       "      <td>0.033333</td>\n",
       "    </tr>\n",
       "    <tr>\n",
       "      <th>4</th>\n",
       "      <td>5</td>\n",
       "      <td>0.0002</td>\n",
       "      <td>0.028571</td>\n",
       "      <td>0.000006</td>\n",
       "      <td>0.019048</td>\n",
       "    </tr>\n",
       "  </tbody>\n",
       "</table>\n",
       "</div>"
      ],
      "text/plain": [
       "   Bag   Prior  Likelihood    Unnorm  Posterior\n",
       "0    1  0.0002    1.000000  0.000200   0.666667\n",
       "1    2  0.0002    0.250000  0.000050   0.166667\n",
       "2    3  0.0002    0.100000  0.000020   0.066667\n",
       "3    4  0.0002    0.050000  0.000010   0.033333\n",
       "4    5  0.0002    0.028571  0.000006   0.019048"
      ]
     },
     "execution_count": 31,
     "metadata": {},
     "output_type": "execute_result"
    }
   ],
   "source": [
    "n_bags = 5_000\n",
    "table = pd.DataFrame()\n",
    "table['Bag']= np.arange(n_bags) + 1\n",
    "table['Prior'] = 1 / n_bags\n",
    "\n",
    "def get_likelihood(row):\n",
    "\treturn 1/comb(int(row['Bag']) + 2, 3)\n",
    "\n",
    "table['Likelihood'] = table.apply(get_likelihood,axis=1)\n",
    "table['Unnorm'] = table['Prior'] * table['Likelihood']\n",
    "\n",
    "prob_data = table['Unnorm'].sum()\n",
    "table['Posterior'] = table['Unnorm'] / prob_data\n",
    "\n",
    "table.head()"
   ]
  },
  {
   "cell_type": "code",
   "execution_count": 32,
   "metadata": {},
   "outputs": [
    {
     "data": {
      "image/png": "[encoded data removed]",
      "text/plain": [
       "<Figure size 1000x600 with 1 Axes>"
      ]
     },
     "metadata": {},
     "output_type": "display_data"
    }
   ],
   "source": [
    "plt.figure(figsize=(10, 6))\n",
    "plt.bar(table['Bag'][:15]-1,table['Posterior'][:15],color = 'red')\n",
    "plt.title(\"Probability of Candy Corns in the Bag after 3 draws\", fontsize=14)\n",
    "plt.xlabel(\"Number of Candy Corns in the bag\", fontsize=12)\n",
    "plt.ylabel(\"Probability\", fontsize=12)\n",
    "plt.show()"
   ]
  },
  {
   "cell_type": "markdown",
   "metadata": {},
   "source": [
    "**Solution** It is most likely that there are no candy corns in the bag with a probability of 0.667.  "
   ]
  },
  {
   "cell_type": "code",
   "execution_count": 10,
   "metadata": {},
   "outputs": [
    {
     "data": {
      "text/plain": [
       "0.9999866667999984"
      ]
     },
     "execution_count": 10,
     "metadata": {},
     "output_type": "execute_result"
    }
   ],
   "source": [
    "sum(table['Posterior'] * table['Bag'])-1"
   ]
  },
  {
   "cell_type": "markdown",
   "metadata": {},
   "source": [
    "On average the will be 1 candy corn in the bag."
   ]
  },
  {
   "cell_type": "markdown",
   "metadata": {},
   "source": [
    "## Scratch Pad"
   ]
  },
  {
   "cell_type": "code",
   "execution_count": 17,
   "metadata": {},
   "outputs": [],
   "source": [
    "import numpy as np\n",
    "import pandas as pd\n",
    "from collections import Counter"
   ]
  },
  {
   "cell_type": "code",
   "execution_count": 26,
   "metadata": {},
   "outputs": [
    {
     "name": "stdout",
     "output_type": "stream",
     "text": [
      "5923\n",
      "0: 0.671\n",
      "1: 0.161\n",
      "2: 0.067\n",
      "3: 0.031\n",
      "4: 0.020\n",
      "5: 0.012\n",
      "6: 0.009\n",
      "7: 0.005\n",
      "8: 0.004\n",
      "9: 0.003\n",
      "10: 0.003\n"
     ]
    }
   ],
   "source": [
    "# Monte Carlo\n",
    "\n",
    "bags = 500\n",
    "trials = 2_000_000\n",
    "success = []\n",
    "\n",
    "base_bag = np.ones(3)\n",
    "\n",
    "for trial in range(trials):\n",
    "\tbag_number_picked = np.random.choice(np.arange(bags)) \n",
    "\tbag = np.concatenate((base_bag, np.zeros(bag_number_picked)))\n",
    "\tif sum(np.random.choice(bag,3,replace = False)) == 3:\n",
    "\t\t\tsuccess.append(bag_number_picked)\n",
    "\n",
    "print(len(success))\n",
    "for i in range(11):\n",
    "\tprint(f'{i}: {Counter(success)[i]/len(success):.3f}') \n"
   ]
  }
 ],
 "metadata": {
  "kernelspec": {
   "display_name": "Python 3",
   "language": "python",
   "name": "python3"
  },
  "language_info": {
   "codemirror_mode": {
    "name": "ipython",
    "version": 3
   },
   "file_extension": ".py",
   "mimetype": "text/x-python",
   "name": "python",
   "nbconvert_exporter": "python",
   "pygments_lexer": "ipython3",
   "version": "3.12.0"
  }
 },
 "nbformat": 4,
 "nbformat_minor": 2
}
