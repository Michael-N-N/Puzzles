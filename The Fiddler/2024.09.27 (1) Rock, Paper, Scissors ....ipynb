{
 "cells": [
  {
   "cell_type": "markdown",
   "metadata": {},
   "source": [
    "# Can You Win at “Rock, Paper, Scissors, Lizard, Spock?” Express (2024.09.27)\n",
    "\n",
    "link: https://thefiddler.substack.com/p/can-you-win-at-rock-paper-scissors"
   ]
  },
  {
   "cell_type": "markdown",
   "metadata": {},
   "source": [
    "## I. Puzzle"
   ]
  },
  {
   "cell_type": "markdown",
   "metadata": {},
   "source": [
    "In a game of “Rock, Paper, Scissors,” each element you can throw ties itself, beats one of the other elements, and loses to the remaining element. In particular, Rock beats Scissors beats Paper beats Rock.\n",
    "\n",
    "“Rock, Paper, Scissors, Lizard, Spock” (popularized via The Big Bang Theory) is similar, but has five elements you can throw instead of the typical three. Each element ties itself, beats another two, and loses to the remaining two. More specifically, Scissors beats Paper beats Rock beats Lizard beats Spock beats Scissors beats Lizard beats Paper beats Spock beats Rock beats Scissors.\n",
    "\n",
    "Three players are playing “Rock, Paper, Scissors, Lizard, Spock.” At the same time, they all put out their hands, revealing one of the five elements. If they each chose their element randomly and independently, what is the probability that one player is immediately victorious, having defeated the other two?"
   ]
  },
  {
   "cell_type": "markdown",
   "metadata": {},
   "source": [
    "# II. Solution"
   ]
  },
  {
   "cell_type": "markdown",
   "metadata": {},
   "source": [
    "There are three players who can win. The winning player can pick 1 of 5 possible elements. For the second and the third player there are only two elements left as the other elements would win or draw against the first player.  \n",
    "$$\\mathbb{P}=\\frac{3 \\cdot \\binom{5}{1}\\binom{2}{1}\\binom{2}{1}}{\\binom{5}{1}^3}= \\frac{12}{25}=48\\%$$"
   ]
  },
  {
   "cell_type": "markdown",
   "metadata": {},
   "source": [
    "# III. Simulation"
   ]
  },
  {
   "cell_type": "code",
   "execution_count": 4,
   "metadata": {},
   "outputs": [],
   "source": [
    "import numpy as np"
   ]
  },
  {
   "cell_type": "code",
   "execution_count": 208,
   "metadata": {},
   "outputs": [
    {
     "name": "stdout",
     "output_type": "stream",
     "text": [
      "The probability is 47.96%.\n"
     ]
    }
   ],
   "source": [
    "beating_order = 'SPRLOSLPORS' # R: Rock, P: Paper, S: Scissors, L: Lizard, O: Spock; element to the right is beaten\n",
    "\n",
    "trials = 1000000\n",
    "n_success = 0  \n",
    "\n",
    "for trial in range(trials):\n",
    "\tplayers_choices = np.random.choice((np.unique(list(beating_order))),3)\n",
    "\tunique_choices, counts = np.unique(players_choices, return_counts=True)\n",
    "\n",
    "\tif max(counts) == 2:\n",
    "\t\tn_success += 1\n",
    "\n",
    "print(f'The probability is {n_success/trials*100:.2f}%.')"
   ]
  }
 ],
 "metadata": {
  "kernelspec": {
   "display_name": "Python 3",
   "language": "python",
   "name": "python3"
  },
  "language_info": {
   "codemirror_mode": {
    "name": "ipython",
    "version": 3
   },
   "file_extension": ".py",
   "mimetype": "text/x-python",
   "name": "python",
   "nbconvert_exporter": "python",
   "pygments_lexer": "ipython3",
   "version": "3.12.0"
  }
 },
 "nbformat": 4,
 "nbformat_minor": 2
}
