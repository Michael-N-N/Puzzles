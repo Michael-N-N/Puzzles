{
 "cells": [
  {
   "cell_type": "markdown",
   "metadata": {},
   "source": [
    "# Can You Win at Non-Traditional Blackjack (2024.05.24)\n",
    "\n",
    "link: https://thefiddler.substack.com/p/can-you-win-at-non-traditional-blackjack"
   ]
  },
  {
   "cell_type": "markdown",
   "metadata": {},
   "source": [
    "## I. Puzzle"
   ]
  },
  {
   "cell_type": "markdown",
   "metadata": {},
   "source": [
    "You’re playing a modified version of blackjack, where the deck consists of exactly 10 cards numbered 1 through 10. Unlike traditional blackjack, in which the ace can count as 1 or 11, the 1 here always has a value of 1.\n",
    "\n",
    "You shuffle the deck so the order of the cards is completely random, after which you draw one card at a time. You keep drawing until the sum of your drawn cards is at least 21. If the sum is exactly 21, you win! But if the sum is greater than 21, you “bust,” or lose. \n",
    "\n",
    "What are your chances of winning, that is, of drawing a sum that is exactly 21?"
   ]
  },
  {
   "cell_type": "markdown",
   "metadata": {},
   "source": [
    "# II. Solution"
   ]
  },
  {
   "cell_type": "markdown",
   "metadata": {},
   "source": [
    "## 1. Math"
   ]
  },
  {
   "cell_type": "code",
   "execution_count": 31,
   "metadata": {},
   "outputs": [],
   "source": [
    "import numpy as np\n",
    "import math"
   ]
  },
  {
   "cell_type": "code",
   "execution_count": 38,
   "metadata": {},
   "outputs": [
    {
     "name": "stdout",
     "output_type": "stream",
     "text": [
      "Valid combinations that sum to 21:\n",
      "\t3 cards: 7\n",
      "\t4 cards: 16\n",
      "\t5 cards: 9\n",
      "\t6 cards: 1\n",
      "\n",
      "Total of valid permutations: 635040\n",
      "Total of all permutations: 3628800\n",
      "\n",
      "Chances to win: 0.175\n"
     ]
    }
   ],
   "source": [
    "from itertools import combinations\n",
    "\n",
    "print(\"Valid combinations that sum to 21:\")\n",
    "sum_valid_permutations = 0\n",
    "\n",
    "for summand in range(3,7):\n",
    "\tvalid_combinations = []\n",
    "\tfor comb in combinations(range(1, 11), summand):\n",
    "\t\tif sum(comb) == 21:\n",
    "\t\t\tvalid_combinations.append(comb)\n",
    "\n",
    "\tsum_valid_permutations += len(valid_combinations) * math.factorial(summand) * math.factorial(10-summand)\n",
    "\tprint(f'\\t{summand} cards: {len(valid_combinations)}')\n",
    "\n",
    "print(f'\\nTotal of valid permutations: {sum_valid_permutations}') \n",
    "\n",
    "all_permutations = math.factorial(10)\n",
    "print(f'Total of all permutations: {all_permutations}')\n",
    "\n",
    "print(f'\\nChances to win: {sum_valid_permutations/all_permutations}') \n"
   ]
  },
  {
   "cell_type": "markdown",
   "metadata": {},
   "source": [
    "### 2. Monte-Carlo"
   ]
  },
  {
   "cell_type": "code",
   "execution_count": 16,
   "metadata": {},
   "outputs": [],
   "source": [
    "def has_won(card_sequence):\n",
    "\tfor i in range(11):\n",
    "\t\tsum_sequence = sum(card_sequence[0:i+1])\n",
    "\t\tif sum_sequence > 21:\n",
    "\t\t\treturn 0\n",
    "\t\telif sum_sequence == 21:\n",
    "\t\t\treturn 1"
   ]
  },
  {
   "cell_type": "code",
   "execution_count": 29,
   "metadata": {},
   "outputs": [
    {
     "name": "stdout",
     "output_type": "stream",
     "text": [
      "Chances to win are approx. 0.175.\n"
     ]
    }
   ],
   "source": [
    "trials = 2000000\n",
    "victory_counter = 0\n",
    "\n",
    "card_sequence = np.arange(1,11)\n",
    "\n",
    "for trial in range(trials):\n",
    "\tnp.random.shuffle(card_sequence)\n",
    "\tif has_won(card_sequence) == 1:\n",
    "\t\tvictory_counter += 1\n",
    "\n",
    "print(f'Chances to win are approx. {victory_counter/trial:.3f}.')"
   ]
  }
 ],
 "metadata": {
  "kernelspec": {
   "display_name": "Python 3",
   "language": "python",
   "name": "python3"
  },
  "language_info": {
   "codemirror_mode": {
    "name": "ipython",
    "version": 3
   },
   "file_extension": ".py",
   "mimetype": "text/x-python",
   "name": "python",
   "nbconvert_exporter": "python",
   "pygments_lexer": "ipython3",
   "version": "3.12.0"
  }
 },
 "nbformat": 4,
 "nbformat_minor": 2
}
