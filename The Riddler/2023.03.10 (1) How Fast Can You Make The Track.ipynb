{
 "cells": [
  {
   "cell_type": "markdown",
   "metadata": {},
   "source": [
    "# How Fast Can You Make The Track? (1) Express (2023.03.20)\n",
    "\n",
    "link: https://fivethirtyeight.com/features/how-fast-can-you-make-the-track/"
   ]
  },
  {
   "cell_type": "markdown",
   "metadata": {},
   "source": [
    "## I. Puzzle"
   ]
  },
  {
   "cell_type": "markdown",
   "metadata": {},
   "source": [
    "Bill has four opaque bags, each of which has three marbles inside. Three of the bags contain two white marbles and one red marble, while the last bag contains three white marbles. The bags are otherwise indistinguishable.\n",
    "Ted watches as Bill randomly selects a bag and reaches in without looking to grab two marbles without replacement. It so happens that both marbles are white. Bill is about to reach in and grab the last marble in that bag.\n",
    "What is the probability that this marble is red?"
   ]
  },
  {
   "cell_type": "markdown",
   "metadata": {},
   "source": [
    "# II. Solution"
   ]
  },
  {
   "cell_type": "markdown",
   "metadata": {},
   "source": [
    "### 1. Combinatorics"
   ]
  },
  {
   "cell_type": "markdown",
   "metadata": {},
   "source": [
    "Bill will pick a red marble if and only if he has selected on of the bags with 2 white and 1 red marbles. Therefore, we need to calculate the probability to have selected these bags given the fact that the first two picked marbles were white. The probability to pick two white marbles from the different bags are:\n",
    "\n",
    "$$P_{wwr}(2w) = \\frac{\\binom{2}{2}\\binom{1}{0}}{\\binom{3}{2}}=\\frac{1}{3}$$\n",
    "\n",
    "$$P_{www}(2w) = 1$$\n",
    "  \n",
    "Then, the probability that the next marble is red is:\n",
    "\n",
    "$$P(red) = \\frac{3 \\cdot P_{wwr}}{3 \\cdot P_{wwr} + P_{www}} = \\frac{3 \\cdot 1/3}{3\\cdot 1/3+1}=\\frac{1}{2}$$"
   ]
  },
  {
   "cell_type": "markdown",
   "metadata": {},
   "source": [
    "### 2. Monte-Carlo-Simulation"
   ]
  },
  {
   "cell_type": "code",
   "execution_count": 3,
   "metadata": {},
   "outputs": [],
   "source": [
    "import numpy as np"
   ]
  },
  {
   "cell_type": "code",
   "execution_count": 35,
   "metadata": {},
   "outputs": [
    {
     "name": "stdout",
     "output_type": "stream",
     "text": [
      "The estimated probability to pick a red marble is 50.24% (from 250091 valid trials).\n"
     ]
    }
   ],
   "source": [
    "bags = np.zeros((4,3))\n",
    "bags[0,0] = 1\n",
    "bags[1,0] = 1\n",
    "bags[2,0] = 1\n",
    "\n",
    "valid_trial = 0\n",
    "red_picked = 0\n",
    "\n",
    "trials = 500000\n",
    "for trial in range(trials):\n",
    "\tbag_choosen = np.random.randint(0,4)\n",
    "\tmarbles_picked = np.random.choice(bags[bag_choosen], 2, replace=False)\n",
    "\n",
    "\tif sum(marbles_picked) != 0:\n",
    "\t\tcontinue\n",
    "\telse:\n",
    "\t\tvalid_trial += 1\n",
    "\t\tif bag_choosen != 3:\n",
    "\t\t\tred_picked +=1\n",
    "\n",
    "print(f'The estimated probability to pick a red marble is {red_picked/valid_trial*100:.2f}% (from {valid_trial} valid trials).')\n"
   ]
  }
 ],
 "metadata": {
  "kernelspec": {
   "display_name": "Python 3",
   "language": "python",
   "name": "python3"
  },
  "language_info": {
   "codemirror_mode": {
    "name": "ipython",
    "version": 3
   },
   "file_extension": ".py",
   "mimetype": "text/x-python",
   "name": "python",
   "nbconvert_exporter": "python",
   "pygments_lexer": "ipython3",
   "version": "3.12.0"
  }
 },
 "nbformat": 4,
 "nbformat_minor": 2
}
