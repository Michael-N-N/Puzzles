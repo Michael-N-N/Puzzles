{
 "cells": [
  {
   "cell_type": "markdown",
   "metadata": {},
   "source": [
    "# Can You Take Down All The Bottles Of Beer?  (2023.03.02)\n",
    "\n",
    "link: https://fivethirtyeight.com/features/can-you-take-down-all-the-bottles-of-beer/"
   ]
  },
  {
   "cell_type": "markdown",
   "metadata": {},
   "source": [
    "## I. Puzzle"
   ]
  },
  {
   "attachments": {},
   "cell_type": "markdown",
   "metadata": {},
   "source": [
    "\n",
    "You and your friends are singing the traditional song, “99 Bottles of Beer.” With each verse, you count down the number of bottles. The first verse contains the lyrics “99 bottles of beer,” the second verse contains the lyrics “98 bottles of beer,” and so on. The last verse contains the lyrics “1 bottle of beer.”\n",
    "\n",
    "There’s just one problem. When completing any given verse, your group of friends has a tendency to forget which verse they’re on. When this happens, you finish the verse you are currently singing and then go back to the beginning of the song (with 99 bottles) on the next verse.\n",
    "\n",
    "For each verse, suppose you have a 1 percent chance of forgetting which verse you are currently singing. On average, how many total verses will you sing in the song?"
   ]
  },
  {
   "cell_type": "markdown",
   "metadata": {},
   "source": [
    "## II. Solution\n",
    "### 1. Markov-Process"
   ]
  },
  {
   "cell_type": "markdown",
   "metadata": {},
   "source": [
    "We deﬁne the random variable $X_n$ as the state after the $n$-th verve completed. State 99 is taken as an absorbing state. The process $\\{X_n\\}$ is an Markov chain with state space $I = {0, 1, \\dots, 99}$. The matrix $P = (p_{ij})$ of one-step transition probabilities is given by\n",
    "$$p_{i,0}=0.01, \\: p_{i,i+1}=0.99, \\: p_{99,99} = 1$$\n",
    "\n",
    "and otherwise $p_{i,j}=0$.\n",
    "\n",
    "The random variable $R$ denotes the number of verses to finish the song. The variable $R$ takes larger values  than $r$ if and only if the Markov chain has not reached the absorbing state 99 in the ﬁrst $r$ transitions. Hence,\n",
    "\n",
    "$$P(R>r) = P (X_i \\neq 99 \\text{ for }i=1,\\dots, r \\:|\\: X_0 = 0)$$\n",
    "\n",
    "We can calculate the probability $P(R > r)$ by multiplying $R$ times the matrix $P$ by itself.\n",
    "\n",
    "The average time is calculated by\n",
    "$$E(X) = \\sum_{r=0}^\\infty \\frac{P(R>r) - P(R>r-1)}{r}$$"
   ]
  },
  {
   "cell_type": "code",
   "execution_count": 2,
   "metadata": {},
   "outputs": [],
   "source": [
    "import numpy as np"
   ]
  },
  {
   "cell_type": "code",
   "execution_count": 7,
   "metadata": {},
   "outputs": [
    {
     "name": "stdout",
     "output_type": "stream",
     "text": [
      "The average is 170.4679.\n"
     ]
    }
   ],
   "source": [
    "matrix = np.zeros([100,100])\n",
    "\n",
    "for i in range(99):\n",
    "\tmatrix[i][0] = 0.01\n",
    "\tmatrix[i][i+1] = 0.99\n",
    "matrix[99][99] = 1\n",
    "\n",
    "mul_iteration = 3000\n",
    "\n",
    "cum_results = [0]\n",
    "\n",
    "next_matrix = matrix\n",
    "for i in range(mul_iteration):\n",
    "\tnext_matrix = np.dot(matrix,next_matrix)\n",
    "\tcum_results.append(next_matrix[0][99])\n",
    "\n",
    "p_results = [0,0]+[cum_results[i]-cum_results[i-1] for i in range(1,mul_iteration+1)]\n",
    "\n",
    "p_index = np.arange(len(p_results))\n",
    "\n",
    "average_rounds = np.sum(p_results*p_index)\n",
    "\n",
    "print(f\"The average is {average_rounds:.4f}.\")"
   ]
  },
  {
   "cell_type": "markdown",
   "metadata": {},
   "source": [
    "### 2. Monte-Carlo-Simulation"
   ]
  },
  {
   "cell_type": "code",
   "execution_count": 10,
   "metadata": {},
   "outputs": [],
   "source": [
    "import random as rd"
   ]
  },
  {
   "cell_type": "code",
   "execution_count": 11,
   "metadata": {},
   "outputs": [
    {
     "name": "stdout",
     "output_type": "stream",
     "text": [
      "The average is 170.533268.\n"
     ]
    }
   ],
   "source": [
    "trials = 500000\n",
    "trial_result = 0\n",
    "\n",
    "for trial in range (trials):\n",
    "\tround = 0\n",
    "\tbottle_counter = 99\n",
    "\n",
    "\twhile bottle_counter > 0:\n",
    "\t\tround += 1\n",
    "\t\tcorrect_bottle_remembered = rd.random()\n",
    "\t\tif correct_bottle_remembered >= 0.99:\n",
    "\t\t\tbottle_counter = 99\n",
    "\t\telse:\n",
    "\t\t\tbottle_counter -= 1\n",
    "\t\n",
    "\ttrial_result += round\n",
    "\n",
    "print(f\"The average is {trial_result / trials}.\")"
   ]
  }
 ],
 "metadata": {
  "kernelspec": {
   "display_name": "Python 3",
   "language": "python",
   "name": "python3"
  },
  "language_info": {
   "codemirror_mode": {
    "name": "ipython",
    "version": 3
   },
   "file_extension": ".py",
   "mimetype": "text/x-python",
   "name": "python",
   "nbconvert_exporter": "python",
   "pygments_lexer": "ipython3",
   "version": "3.12.0"
  },
  "orig_nbformat": 4,
  "vscode": {
   "interpreter": {
    "hash": "d18b7129a71dfc58650892382b70b73e09b4cac6b0283684c1a88a3c1d188383"
   }
  }
 },
 "nbformat": 4,
 "nbformat_minor": 2
}
