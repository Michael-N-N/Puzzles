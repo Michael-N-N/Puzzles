{
 "cells": [
  {
   "cell_type": "markdown",
   "metadata": {},
   "source": [
    "# Can You Take Down All The Bottles Of Beer? (2023-02-03) / Express\n",
    "\n",
    "link: https://fivethirtyeight.com/features/can-you-take-down-all-the-bottles-of-beer/"
   ]
  },
  {
   "cell_type": "markdown",
   "metadata": {},
   "source": [
    "## I. Puzzle"
   ]
  },
  {
   "cell_type": "markdown",
   "metadata": {},
   "source": [
    "In football, a touchdown is worth six points, a one-point conversion is worth one point, a two-point conversion is worth two points, a field goal is worth three points and a safety is worth two points.\n",
    "\n",
    "A team may attempt a conversion only after it has scored a touchdown, and it must decide whether to attempt a one-point conversion or a two-point conversion.\n",
    "\n",
    "Using the aforementioned methods of scoring, how many distinct ways can a team score 14 points? Note that the sequence in which a team scores these points doesn’t matter here. So scoring a field goal and then a safety is the same as a safety and then a field goal (i.e., there is only one distinct way a team can score 5 points).\n",
    "\n",
    "_Extra credit_: Using the aforementioned methods of scoring, how many distinct ways can a team score 28 points?"
   ]
  },
  {
   "cell_type": "markdown",
   "metadata": {},
   "source": [
    "# II. Solution\n",
    "\n",
    "This can be solved with a generating function. The way to score 14 points equals the number of solutions of the equation $$i_6+i_7+i_8+i_3+i_2=14$$ with $$i_6 \\in \\{0,6,12\\}, i_7 \\in \\{0,7,14\\}, i_8 \\in \\{0,8\\}, i_3 \\in \\{0,3,6,9,12\\}, i_2 \\in \\{0,2,4,6,8,10,12,14\\}$$ The number of solutions of the equation equals the coeﬃcient of $x_{14}$ in the product: $$(1 + x^6 + x^{12}) \\cdot (1+x^7+x^{14}) \\cdots$$ "
   ]
  },
  {
   "cell_type": "code",
   "execution_count": 27,
   "metadata": {},
   "outputs": [],
   "source": [
    "import sympy as sp\n",
    "from math import ceil\n",
    "\n",
    "x = sp.Symbol(\"x\")\n",
    "\n",
    "points = [6, 7, 8, 3, 2]\n",
    "scores = [14, 28]\n",
    "\n",
    "def create_poly(power, N):\n",
    "\texp = 0\n",
    "\tfor i in range(N):\n",
    "\t\texp += x**(power*i)\n",
    "\t\n",
    "\treturn exp\n",
    "\n",
    "def round(score):\n",
    "\texp = 1 \n",
    "\tfor point in points:\n",
    "\t\texp *= create_poly(point, ceil(score/point)+1) \n",
    "\n",
    "\texp = sp.expand(exp)\n",
    "\n",
    "\treturn f'Solution: There are {exp.coeff(x,score)} ways to score {score} points.'\n",
    "\t#return exp"
   ]
  },
  {
   "cell_type": "code",
   "execution_count": 26,
   "metadata": {},
   "outputs": [
    {
     "data": {
      "text/plain": [
       "'Solution: There are 11 ways to score 14 points.'"
      ]
     },
     "execution_count": 26,
     "metadata": {},
     "output_type": "execute_result"
    }
   ],
   "source": [
    "round(scores[0])"
   ]
  },
  {
   "cell_type": "code",
   "execution_count": 28,
   "metadata": {},
   "outputs": [
    {
     "data": {
      "text/plain": [
       "'Solution: There are 57 ways to score 28 points.'"
      ]
     },
     "execution_count": 28,
     "metadata": {},
     "output_type": "execute_result"
    }
   ],
   "source": [
    "round(scores[1])"
   ]
  }
 ],
 "metadata": {
  "kernelspec": {
   "display_name": "Python 3",
   "language": "python",
   "name": "python3"
  },
  "language_info": {
   "codemirror_mode": {
    "name": "ipython",
    "version": 3
   },
   "file_extension": ".py",
   "mimetype": "text/x-python",
   "name": "python",
   "nbconvert_exporter": "python",
   "pygments_lexer": "ipython3",
   "version": "3.12.0"
  }
 },
 "nbformat": 4,
 "nbformat_minor": 2
}
