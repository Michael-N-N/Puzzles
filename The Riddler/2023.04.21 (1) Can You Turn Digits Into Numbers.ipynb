{
 "cells": [
  {
   "cell_type": "markdown",
   "metadata": {},
   "source": [
    "# Can You Turn Digits Into Numbers? (1) Express (2023.04.21)\n",
    "\n",
    "link: https://fivethirtyeight.com/features/can-you-turn-digits-into-numbers/"
   ]
  },
  {
   "cell_type": "markdown",
   "metadata": {},
   "source": [
    "## I. Puzzle"
   ]
  },
  {
   "cell_type": "markdown",
   "metadata": {},
   "source": [
    "You have a toast rack with five slots, arranged in an array. Each slot has a slice of toasted bread, which you are removing one at a time. However, you are quite superstitious, and you know it’s bad luck to remove adjacent pieces of toast one after the other. \n",
    "\n",
    "How many different ways can you remove the slices of toast?"
   ]
  },
  {
   "cell_type": "markdown",
   "metadata": {},
   "source": [
    "# II. Solution"
   ]
  },
  {
   "cell_type": "code",
   "execution_count": 2,
   "metadata": {},
   "outputs": [],
   "source": [
    "import numpy as np\n",
    "from itertools import permutations"
   ]
  },
  {
   "cell_type": "code",
   "execution_count": 20,
   "metadata": {},
   "outputs": [],
   "source": [
    "def check_pick(permutation):\n",
    "\tfor i in range(len(permutation)-1):\n",
    "\t\tif (abs(permutation[i]-permutation[i+1])) == 1:\n",
    "\t\t\treturn False\n",
    "\n",
    "\treturn True"
   ]
  },
  {
   "cell_type": "code",
   "execution_count": 22,
   "metadata": {},
   "outputs": [
    {
     "name": "stdout",
     "output_type": "stream",
     "text": [
      "Valid permutations:\n",
      "(1, 3, 5, 2, 4)\n",
      "(1, 4, 2, 5, 3)\n",
      "(2, 4, 1, 3, 5)\n",
      "(2, 4, 1, 5, 3)\n",
      "(2, 5, 3, 1, 4)\n",
      "(3, 1, 4, 2, 5)\n",
      "(3, 1, 5, 2, 4)\n",
      "(3, 5, 1, 4, 2)\n",
      "(3, 5, 2, 4, 1)\n",
      "(4, 1, 3, 5, 2)\n",
      "(4, 2, 5, 1, 3)\n",
      "(4, 2, 5, 3, 1)\n",
      "(5, 2, 4, 1, 3)\n",
      "(5, 3, 1, 4, 2)\n",
      "\n",
      "There are 14 valid permutations.\n"
     ]
    }
   ],
   "source": [
    "pick_list = np.arange(1,6)\n",
    "\n",
    "n_valid_permutation = 0\n",
    "\n",
    "print(f'Valid permutations:')\n",
    "for permutation in permutations(pick_list):\n",
    "    if check_pick(permutation):\n",
    "        print(permutation)\n",
    "        n_valid_permutation += 1\n",
    "\n",
    "print(f'\\nThere are {n_valid_permutation} valid permutations.')"
   ]
  }
 ],
 "metadata": {
  "kernelspec": {
   "display_name": "Python 3",
   "language": "python",
   "name": "python3"
  },
  "language_info": {
   "codemirror_mode": {
    "name": "ipython",
    "version": 3
   },
   "file_extension": ".py",
   "mimetype": "text/x-python",
   "name": "python",
   "nbconvert_exporter": "python",
   "pygments_lexer": "ipython3",
   "version": "3.12.0"
  }
 },
 "nbformat": 4,
 "nbformat_minor": 2
}
