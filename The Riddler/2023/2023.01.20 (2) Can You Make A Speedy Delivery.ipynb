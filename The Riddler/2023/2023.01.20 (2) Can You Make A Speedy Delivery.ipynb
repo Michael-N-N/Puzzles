{
 "cells": [
  {
   "cell_type": "markdown",
   "metadata": {},
   "source": [
    "# Can You Make A Speedy Delivery? (2023-01-20)\n",
    "\n",
    "link: https://fivethirtyeight.com/features/can-you-make-a-speedy-delivery/"
   ]
  },
  {
   "cell_type": "markdown",
   "metadata": {},
   "source": [
    "## I. Puzzle"
   ]
  },
  {
   "cell_type": "markdown",
   "metadata": {},
   "source": [
    "A restaurant at the center of Riddler City is testing an airborne drone delivery service against their existing fleet of scooters. The restaurant is at the center of a large Manhattan-like array of square city blocks, which the scooter must follow.\n",
    "\n",
    "Both vehicles travel at the same speed, which means drones can make more deliveries per unit time. Assume that (1) Riddler City is circular in shape, as you may recall (2) deliveries are made to random locations throughout the city and (3) the city is much, much larger than its individual blocks.\n",
    "\n",
    "In a given amount of time, what is the expected ratio between the number of deliveries a drone can make to the number of deliveries a scooter can make?"
   ]
  },
  {
   "cell_type": "markdown",
   "metadata": {},
   "source": [
    "# II. Solution"
   ]
  },
  {
   "cell_type": "markdown",
   "metadata": {},
   "source": [
    "## II.1 Calculus"
   ]
  },
  {
   "cell_type": "markdown",
   "metadata": {},
   "source": [
    "We assume that the city has a radium of 1 (unit circle). The delivery addresses are uniformly distributed over the city so we can focus our analysis on one quadrant of the unit circle only.\n",
    "\n",
    "The distances to get to an address $(x,y)$ are for the drone and the scooter, respectively:\n",
    "\n",
    "$$f_D(x,y) = \\sqrt{x^2+y^2}$$\n",
    "$$f_S(x,y) = x+y$$\n",
    "We first calculate the expected values (average distances) for both vehicles. \n",
    "\n",
    "$$\\mathbb{E}(x,y) = \\frac{F(x,y)}{\\pi/4}$$\n",
    "For the drone we have to calculate the following integral:\n",
    "$$F_D(x,y) = \\int_0^1 \\int_0^z \\sqrt{x^2+y^2} \\:dy\\,dx$$\n",
    "The upper limit of the inner integral $z$ is determined by the unit circle:\n",
    "$$x^2 + z^2 = 1 \\Leftrightarrow z = \\sqrt{1-x^2}$$\n",
    "The calculation for the scooter follows the same way."
   ]
  },
  {
   "cell_type": "markdown",
   "metadata": {},
   "source": [
    "### Average distances of the drones"
   ]
  },
  {
   "cell_type": "code",
   "execution_count": 1,
   "metadata": {},
   "outputs": [],
   "source": [
    "import sympy as sp\n",
    "from sympy import pi\n",
    "x,y = sp.symbols('x,y')\n"
   ]
  },
  {
   "cell_type": "code",
   "execution_count": 3,
   "metadata": {},
   "outputs": [
    {
     "data": {
      "text/latex": [
       "$\\displaystyle \\sqrt{x^{2} + y^{2}}$"
      ],
      "text/plain": [
       "sqrt(x**2 + y**2)"
      ]
     },
     "execution_count": 3,
     "metadata": {},
     "output_type": "execute_result"
    }
   ],
   "source": [
    "f_drone = sp.sqrt(x**2+y**2)\n",
    "f_drone"
   ]
  },
  {
   "cell_type": "code",
   "execution_count": 5,
   "metadata": {},
   "outputs": [
    {
     "data": {
      "text/latex": [
       "$\\displaystyle \\frac{\\pi}{6}$"
      ],
      "text/plain": [
       "pi/6"
      ]
     },
     "execution_count": 5,
     "metadata": {},
     "output_type": "execute_result"
    }
   ],
   "source": [
    "F_drone = sp.integrate(\n",
    "\tsp.integrate(f_drone, (y,0,sp.sqrt(1-x**2))),\n",
    "\t(x,0,1))\n",
    "\n",
    "F_drone"
   ]
  },
  {
   "cell_type": "code",
   "execution_count": 6,
   "metadata": {},
   "outputs": [
    {
     "data": {
      "text/latex": [
       "$\\displaystyle \\frac{2}{3}$"
      ],
      "text/plain": [
       "2/3"
      ]
     },
     "execution_count": 6,
     "metadata": {},
     "output_type": "execute_result"
    }
   ],
   "source": [
    "# Normalizing\n",
    "EV_drone = F_drone/(pi/4)\n",
    "EV_drone"
   ]
  },
  {
   "cell_type": "markdown",
   "metadata": {},
   "source": [
    "### Average distances of the scooters"
   ]
  },
  {
   "cell_type": "code",
   "execution_count": 8,
   "metadata": {},
   "outputs": [],
   "source": [
    "f_scooter = x+y"
   ]
  },
  {
   "cell_type": "code",
   "execution_count": 9,
   "metadata": {},
   "outputs": [
    {
     "data": {
      "text/latex": [
       "$\\displaystyle \\frac{2}{3}$"
      ],
      "text/plain": [
       "2/3"
      ]
     },
     "execution_count": 9,
     "metadata": {},
     "output_type": "execute_result"
    }
   ],
   "source": [
    "F_scooter = sp.integrate(sp.integrate(f_scooter, (y,0,sp.sqrt(1-x**2))), (x,0,1))\n",
    "F_scooter"
   ]
  },
  {
   "cell_type": "code",
   "execution_count": 10,
   "metadata": {},
   "outputs": [
    {
     "data": {
      "text/latex": [
       "$\\displaystyle \\frac{8}{3 \\pi}$"
      ],
      "text/plain": [
       "8/(3*pi)"
      ]
     },
     "execution_count": 10,
     "metadata": {},
     "output_type": "execute_result"
    }
   ],
   "source": [
    "# Normalizing\n",
    "EV_scooter = F_scooter/(pi/4)\n",
    "EV_scooter"
   ]
  },
  {
   "cell_type": "markdown",
   "metadata": {},
   "source": [
    "## Result"
   ]
  },
  {
   "cell_type": "code",
   "execution_count": 24,
   "metadata": {},
   "outputs": [
    {
     "data": {
      "text/latex": [
       "$\\displaystyle \\frac{4}{\\pi}$"
      ],
      "text/plain": [
       "4/pi"
      ]
     },
     "metadata": {},
     "output_type": "display_data"
    },
    {
     "name": "stdout",
     "output_type": "stream",
     "text": [
      "The expected ratio between the number of deliveries is 1.273.\n"
     ]
    }
   ],
   "source": [
    "EV_ratio_delivery = 1/(EV_drone/EV_scooter)\n",
    "display(EV_ratio_delivery)\n",
    "print(f'The expected ratio between the number of deliveries is {EV_ratio_delivery.evalf():.3f}.')\n"
   ]
  },
  {
   "cell_type": "markdown",
   "metadata": {},
   "source": [
    "### II.2 Monte-Carlo-Simulation"
   ]
  },
  {
   "cell_type": "code",
   "execution_count": 16,
   "metadata": {},
   "outputs": [],
   "source": [
    "import numpy as np\n",
    "import math"
   ]
  },
  {
   "cell_type": "code",
   "execution_count": 18,
   "metadata": {},
   "outputs": [
    {
     "name": "stdout",
     "output_type": "stream",
     "text": [
      " The expected ratio is 1.274.\n"
     ]
    }
   ],
   "source": [
    "trials = 100000\n",
    "\n",
    "drone_distance = 0\n",
    "scooter_distance = 0\n",
    "\n",
    "for trial in range(trials):\n",
    "\tx,y = np.random.random(2)\n",
    "\n",
    "\tz = x**2 + y**2\n",
    "\n",
    "\tif z > 1:\t# destination is outside of the circle\n",
    "\t\tcontinue\n",
    "\t\n",
    "\tdrone_distance += math.sqrt(z)\n",
    "\tscooter_distance += x+y\n",
    "\n",
    "print(f' The expected ratio is {1/(drone_distance/scooter_distance):.3f}.')"
   ]
  }
 ],
 "metadata": {
  "kernelspec": {
   "display_name": "Python 3",
   "language": "python",
   "name": "python3"
  },
  "language_info": {
   "codemirror_mode": {
    "name": "ipython",
    "version": 3
   },
   "file_extension": ".py",
   "mimetype": "text/x-python",
   "name": "python",
   "nbconvert_exporter": "python",
   "pygments_lexer": "ipython3",
   "version": "3.12.0"
  }
 },
 "nbformat": 4,
 "nbformat_minor": 2
}
