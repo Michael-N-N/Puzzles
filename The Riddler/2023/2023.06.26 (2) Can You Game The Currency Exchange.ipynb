{
 "cells": [
  {
   "cell_type": "markdown",
   "metadata": {},
   "source": [
    "# Can You Game The Currency Exchange (12 Classic (2023.06.26)\n",
    "\n",
    "link: https://fivethirtyeight.com/features/can-you-game-the-currency-exchange/"
   ]
  },
  {
   "cell_type": "markdown",
   "metadata": {},
   "source": [
    "## I. Puzzle"
   ]
  },
  {
   "cell_type": "markdown",
   "metadata": {},
   "source": [
    "There’s a parking lot behind Dave’s office building with 10 spaces that are available on a first-come, first-serve basis. Those 10 spaces invariably fill by 8 a.m., and the parking lot quickly empties out at 5 p.m. sharp.\n",
    "\n",
    "Every day, three of the 10 “early birds” who snagged spots before 8 a.m. leave at random times between 10 a.m. and 3 p.m. and do not return that day. Knowing that some early birds leave during that five-hour window, nine “stragglers” drive by the lot at random times between 10 a.m. and 3 p.m. If there’s an available spot, a straggler immediately parks in the spot and doesn’t leave until 5 p.m. If there’s no open spot, a straggler immediately drives away from the lot and parks somewhere else, and doesn’t return that day.\n",
    "\n",
    "Suppose you are a straggler arriving at a random time between 10 a.m. and 3 p.m. What is the probability that you will get a spot in the lot?"
   ]
  },
  {
   "cell_type": "markdown",
   "metadata": {},
   "source": [
    "# II. Solution"
   ]
  },
  {
   "cell_type": "markdown",
   "metadata": {},
   "source": [
    "\n",
    "The probability when an early bird leaves or when a straggler arrives is uniformly distributed and therefore the probability distribution is identical for all involved persons. Hence, we only have to analyse the different possible permutations and we don't need to think about the time between two \"events\".\n",
    "\n",
    "There are 3 early birds ($e$), 8 stragglers ($s$) and you ($y$). The number of possible permutations given that the persons in a group are indistinguishable is:\n",
    "$$n = \\frac{12!}{3!\\cdot8!\\cdot 1!}= 1980$$\n",
    "Next, we analyse when you can get a free parking spot. It happens if and only if one of the following patterns occurs in a permutation:  \n",
    "- $(ey)$\n",
    "- $(eesy)$\n",
    "- $(eeessy)$\n",
    "- $(eesesy)$\n",
    "\n",
    "We count the number of permutation for each case. For the case $ey$ there are 11 positions where the pattern $ey$ can occur in the permutation (position (1,2) to (11,12)). For the remaining two $e$ and eight $s$ we have $\\frac{10!}{2!\\cdot8!}= 45$ possibilities. So the total number of permutations with a pattern $ey$ is\n",
    "$$n_{(ey)} = 11 \\cdot \\frac{10!}{2!\\cdot8!}= 495$$\n",
    "The other cases are calculated in the same way:\n",
    "\n",
    "$$n_{(eesy)} = 9 \\cdot \\frac{8!}{1!\\cdot7!}= 72$$\n",
    "$$n_{(eeessy)} = 7 \\cdot \\frac{6!}{6!}= 7$$\n",
    "$$n_{(eesesy)} = 7 \\cdot \\frac{6!}{6!}= 7$$\n",
    "The patterns are mutually exclusive (there is only one $y$), so we can add up the number of the cases without the risk of double counting. \n",
    "\n",
    "The probability $\\mathbb{P}$ that you will find a unoccupied parking spot is:\n",
    "\n",
    "$$\\mathbb{P} = \\frac{n_{(ey)}+ n_{(eesy)}+ n_{(eeessy)}+ n_{(eesesy)}}{n}\\approx0.293$$\n",
    "\n",
    "\n"
   ]
  },
  {
   "cell_type": "markdown",
   "metadata": {},
   "source": [
    "## III. Monte-Carlo-Simulation"
   ]
  },
  {
   "cell_type": "code",
   "execution_count": 2,
   "metadata": {},
   "outputs": [],
   "source": [
    "import numpy as np"
   ]
  },
  {
   "cell_type": "code",
   "execution_count": 3,
   "metadata": {},
   "outputs": [
    {
     "name": "stdout",
     "output_type": "stream",
     "text": [
      "The estimated ratio is : 0.294.\n"
     ]
    }
   ],
   "source": [
    "permutation = np.array([1, 1, 1, -1, -1, -1, -1, -1, -1, -1, -1, 2])\n",
    "\n",
    "trials = 1000000\n",
    "n_good_days = 0\n",
    "\n",
    "for trial in range(trials):\n",
    "\tnp.random.shuffle(permutation)\n",
    "\tlst = np.concatenate((np.array([0]),permutation))\n",
    "\ty_pos = np.where(lst == 2)[0][0]\n",
    "\n",
    "\tif y_pos == 0:\n",
    "\t\tbreak\n",
    "\n",
    "\tn_free_spots = 0\n",
    "\tfor i in range(1, y_pos):\n",
    "\t\tn_free_spots = max(n_free_spots + lst[i],0)\n",
    "\n",
    "\tif n_free_spots > 0:\n",
    "\t\tn_good_days +=1\n",
    "\n",
    "print(f\"The estimated ratio is : {n_good_days/trials:.3f}.\")\n"
   ]
  },
  {
   "cell_type": "code",
   "execution_count": 5,
   "metadata": {},
   "outputs": [
    {
     "name": "stdout",
     "output_type": "stream",
     "text": [
      "With a 95% probability the true value is within the interval (0.293, 0.295).\n"
     ]
    }
   ],
   "source": [
    "# 95% frequentist conﬁdence interval\n",
    "p = n_good_days/trials\n",
    "t = 1.96 * np.sqrt(p*(1-p))/np.sqrt(trials)\n",
    "\n",
    "print(f\"With a 95% probability the true value is within the interval ({p-t:.3f}, {p+t:.3f}).\")\n"
   ]
  },
  {
   "cell_type": "code",
   "execution_count": null,
   "metadata": {},
   "outputs": [],
   "source": []
  }
 ],
 "metadata": {
  "kernelspec": {
   "display_name": "Python 3",
   "language": "python",
   "name": "python3"
  },
  "language_info": {
   "codemirror_mode": {
    "name": "ipython",
    "version": 3
   },
   "file_extension": ".py",
   "mimetype": "text/x-python",
   "name": "python",
   "nbconvert_exporter": "python",
   "pygments_lexer": "ipython3",
   "version": "3.12.0"
  }
 },
 "nbformat": 4,
 "nbformat_minor": 2
}
