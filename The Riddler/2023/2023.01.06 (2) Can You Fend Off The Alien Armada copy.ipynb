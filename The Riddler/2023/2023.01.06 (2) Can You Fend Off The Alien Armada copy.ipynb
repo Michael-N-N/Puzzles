{
 "cells": [
  {
   "cell_type": "markdown",
   "metadata": {},
   "source": [
    "# Can You Fend Off The Alien Armada? (2) Classic (2023.01.06)\n",
    "\n",
    "link: https://fivethirtyeight.com/features/can-you-fend-off-the-alien-armada/"
   ]
  },
  {
   "cell_type": "markdown",
   "metadata": {},
   "source": [
    "## I. Puzzle"
   ]
  },
  {
   "cell_type": "markdown",
   "metadata": {},
   "source": [
    "An armada of alien warships will be arriving in exactly 100 days on earth.  \n",
    "\n",
    "Engineers have just completed construction an assembler, which is capable of producing a fighter to defend the planet or an assembler which, in turn, can build other space fighters or assemblers. Producing a fighter requires 1 hour and producing an assembler takes 6 days. You cannot use multiple assemblers to build one space fighter or assembler in a shorter period of time.\n",
    "\n",
    " \n",
    "What is the greatest number of space fighters when the alien armada arrives?"
   ]
  },
  {
   "cell_type": "markdown",
   "metadata": {},
   "source": [
    "# II. Solution"
   ]
  },
  {
   "cell_type": "markdown",
   "metadata": {},
   "source": [
    "The optimal strategy is to produce the assembles first and later switch to the production of fighters. Producing an assembler after fighters have already been build can not be optimal as the costs for the assembler (6 working days) are identical but the profits (additional fighters build by the new assembler) would be lower.\n",
    "\n",
    "The conditions for the strategy are the same for each assembler and the strategies are independent from each other. Therefore, all assemblers have the same time to  switch from producing assemblers to producing fighters.\n",
    "\n",
    "Let $x$ be the number of fights to produce. The function to be maximized is $$f(x) = 2^x \\cdot (100-6x) \\cdot 24$$\n"
   ]
  },
  {
   "cell_type": "code",
   "execution_count": 16,
   "metadata": {},
   "outputs": [],
   "source": [
    "import sympy as sp\n",
    "import matplotlib.pyplot as plt\n",
    "import numpy as np"
   ]
  },
  {
   "cell_type": "code",
   "execution_count": 24,
   "metadata": {},
   "outputs": [],
   "source": [
    "x = sp.Symbol(\"x\")\n",
    "f = 2**x * (100-6*x) * 24\n",
    "\n",
    "f_numeric = sp.lambdify(x, f, 'numpy')"
   ]
  },
  {
   "cell_type": "code",
   "execution_count": 27,
   "metadata": {},
   "outputs": [
    {
     "data": {
      "image/png": "[encoded data removed]",
      "text/plain": [
       "<Figure size 640x480 with 1 Axes>"
      ]
     },
     "metadata": {},
     "output_type": "display_data"
    }
   ],
   "source": [
    "x_values = np.arange(0, 17, 1)\n",
    "y_values = f_numeric(x_values)\n",
    "\n",
    "plt.plot(x_values, y_values,'r.')\n",
    "plt.show()"
   ]
  },
  {
   "cell_type": "code",
   "execution_count": 46,
   "metadata": {},
   "outputs": [
    {
     "name": "stdout",
     "output_type": "stream",
     "text": [
      "0: \t 2400\n",
      "1: \t 4512\n",
      "2: \t 8448\n",
      "3: \t 15744\n",
      "4: \t 29184\n",
      "5: \t 53760\n",
      "6: \t 98304\n",
      "7: \t 178176\n",
      "8: \t 319488\n",
      "9: \t 565248\n",
      "10: \t 983040\n",
      "11: \t 1671168\n",
      "12: \t 2752512\n",
      "13: \t 4325376\n",
      "14: \t 6291456\n",
      "15: \t 7864320\n",
      "16: \t 6291456\n"
     ]
    }
   ],
   "source": [
    "for i in range (17):\n",
    "\tprint(f'{i}: \\t {f.subs({x:i})}')\n"
   ]
  },
  {
   "cell_type": "markdown",
   "metadata": {},
   "source": [
    "__Solution__: The optimal strategy is to produce 15 rounds of assemblers (90 day, $2^{15}$ assemblers) and then for 10 days fighters (7,864,320)."
   ]
  }
 ],
 "metadata": {
  "kernelspec": {
   "display_name": "Python 3",
   "language": "python",
   "name": "python3"
  },
  "language_info": {
   "codemirror_mode": {
    "name": "ipython",
    "version": 3
   },
   "file_extension": ".py",
   "mimetype": "text/x-python",
   "name": "python",
   "nbconvert_exporter": "python",
   "pygments_lexer": "ipython3",
   "version": "3.12.0"
  }
 },
 "nbformat": 4,
 "nbformat_minor": 2
}
