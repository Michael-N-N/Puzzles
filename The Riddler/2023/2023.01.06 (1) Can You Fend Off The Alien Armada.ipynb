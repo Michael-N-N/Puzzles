{
 "cells": [
  {
   "cell_type": "markdown",
   "metadata": {},
   "source": [
    "# Can You Fend Off The Alien Armada? (1) Express (2023.01.06)\n",
    "\n",
    "link: https://fivethirtyeight.com/features/can-you-fend-off-the-alien-armada/"
   ]
  },
  {
   "cell_type": "markdown",
   "metadata": {},
   "source": [
    "## I. Puzzle"
   ]
  },
  {
   "cell_type": "markdown",
   "metadata": {},
   "source": [
    "Your friend will name a number called $N$. Your goal is to score exactly $N$ points in basketball by using 2-point and 3-point shots. The order of your shots does not matter. Your friend chooses 60 for the value of $N$. Does there exist an integer $N$ greater than 60 such that there are fewer ways to score $N$ points than there are ways to score 60 points?"
   ]
  },
  {
   "cell_type": "markdown",
   "metadata": {},
   "source": [
    "# II. Solution"
   ]
  },
  {
   "cell_type": "code",
   "execution_count": 2,
   "metadata": {},
   "outputs": [],
   "source": [
    "import sympy as sp"
   ]
  },
  {
   "cell_type": "code",
   "execution_count": 18,
   "metadata": {},
   "outputs": [
    {
     "data": {
      "text/latex": [
       "$\\displaystyle x^{170} + x^{168} + x^{167} + x^{166} + x^{165} + 2 x^{164} + x^{163} + 2 x^{162} + 2 x^{161} + 2 x^{160} + 2 x^{159} + 3 x^{158} + 2 x^{157} + 3 x^{156} + 3 x^{155} + 3 x^{154} + 3 x^{153} + 4 x^{152} + 3 x^{151} + 4 x^{150} + 4 x^{149} + 4 x^{148} + 4 x^{147} + 5 x^{146} + 4 x^{145} + 5 x^{144} + 5 x^{143} + 5 x^{142} + 5 x^{141} + 6 x^{140} + 5 x^{139} + 6 x^{138} + 6 x^{137} + 6 x^{136} + 6 x^{135} + 7 x^{134} + 6 x^{133} + 7 x^{132} + 7 x^{131} + 7 x^{130} + 7 x^{129} + 8 x^{128} + 7 x^{127} + 8 x^{126} + 8 x^{125} + 8 x^{124} + 8 x^{123} + 9 x^{122} + 8 x^{121} + 9 x^{120} + 9 x^{119} + 9 x^{118} + 9 x^{117} + 10 x^{116} + 9 x^{115} + 10 x^{114} + 10 x^{113} + 10 x^{112} + 10 x^{111} + 11 x^{110} + 10 x^{109} + 11 x^{108} + 11 x^{107} + 11 x^{106} + 11 x^{105} + 12 x^{104} + 11 x^{103} + 12 x^{102} + 12 x^{101} + 12 x^{100} + 12 x^{99} + 13 x^{98} + 12 x^{97} + 13 x^{96} + 13 x^{95} + 13 x^{94} + 13 x^{93} + 14 x^{92} + 13 x^{91} + 14 x^{90} + 14 x^{89} + 13 x^{88} + 14 x^{87} + 14 x^{86} + 13 x^{85} + 14 x^{84} + 14 x^{83} + 13 x^{82} + 14 x^{81} + 14 x^{80} + 13 x^{79} + 14 x^{78} + 13 x^{77} + 13 x^{76} + 13 x^{75} + 13 x^{74} + 12 x^{73} + 13 x^{72} + 12 x^{71} + 12 x^{70} + 12 x^{69} + 12 x^{68} + 11 x^{67} + 12 x^{66} + 11 x^{65} + 11 x^{64} + 11 x^{63} + 11 x^{62} + 10 x^{61} + 11 x^{60} + 10 x^{59} + 10 x^{58} + 10 x^{57} + 10 x^{56} + 9 x^{55} + 10 x^{54} + 9 x^{53} + 9 x^{52} + 9 x^{51} + 9 x^{50} + 8 x^{49} + 9 x^{48} + 8 x^{47} + 8 x^{46} + 8 x^{45} + 8 x^{44} + 7 x^{43} + 8 x^{42} + 7 x^{41} + 7 x^{40} + 7 x^{39} + 7 x^{38} + 6 x^{37} + 7 x^{36} + 6 x^{35} + 6 x^{34} + 6 x^{33} + 6 x^{32} + 5 x^{31} + 6 x^{30} + 5 x^{29} + 5 x^{28} + 5 x^{27} + 5 x^{26} + 4 x^{25} + 5 x^{24} + 4 x^{23} + 4 x^{22} + 4 x^{21} + 4 x^{20} + 3 x^{19} + 4 x^{18} + 3 x^{17} + 3 x^{16} + 3 x^{15} + 3 x^{14} + 2 x^{13} + 3 x^{12} + 2 x^{11} + 2 x^{10} + 2 x^{9} + 2 x^{8} + x^{7} + 2 x^{6} + x^{5} + x^{4} + x^{3} + x^{2} + 1$"
      ],
      "text/plain": [
       "x**170 + x**168 + x**167 + x**166 + x**165 + 2*x**164 + x**163 + 2*x**162 + 2*x**161 + 2*x**160 + 2*x**159 + 3*x**158 + 2*x**157 + 3*x**156 + 3*x**155 + 3*x**154 + 3*x**153 + 4*x**152 + 3*x**151 + 4*x**150 + 4*x**149 + 4*x**148 + 4*x**147 + 5*x**146 + 4*x**145 + 5*x**144 + 5*x**143 + 5*x**142 + 5*x**141 + 6*x**140 + 5*x**139 + 6*x**138 + 6*x**137 + 6*x**136 + 6*x**135 + 7*x**134 + 6*x**133 + 7*x**132 + 7*x**131 + 7*x**130 + 7*x**129 + 8*x**128 + 7*x**127 + 8*x**126 + 8*x**125 + 8*x**124 + 8*x**123 + 9*x**122 + 8*x**121 + 9*x**120 + 9*x**119 + 9*x**118 + 9*x**117 + 10*x**116 + 9*x**115 + 10*x**114 + 10*x**113 + 10*x**112 + 10*x**111 + 11*x**110 + 10*x**109 + 11*x**108 + 11*x**107 + 11*x**106 + 11*x**105 + 12*x**104 + 11*x**103 + 12*x**102 + 12*x**101 + 12*x**100 + 12*x**99 + 13*x**98 + 12*x**97 + 13*x**96 + 13*x**95 + 13*x**94 + 13*x**93 + 14*x**92 + 13*x**91 + 14*x**90 + 14*x**89 + 13*x**88 + 14*x**87 + 14*x**86 + 13*x**85 + 14*x**84 + 14*x**83 + 13*x**82 + 14*x**81 + 14*x**80 + 13*x**79 + 14*x**78 + 13*x**77 + 13*x**76 + 13*x**75 + 13*x**74 + 12*x**73 + 13*x**72 + 12*x**71 + 12*x**70 + 12*x**69 + 12*x**68 + 11*x**67 + 12*x**66 + 11*x**65 + 11*x**64 + 11*x**63 + 11*x**62 + 10*x**61 + 11*x**60 + 10*x**59 + 10*x**58 + 10*x**57 + 10*x**56 + 9*x**55 + 10*x**54 + 9*x**53 + 9*x**52 + 9*x**51 + 9*x**50 + 8*x**49 + 9*x**48 + 8*x**47 + 8*x**46 + 8*x**45 + 8*x**44 + 7*x**43 + 8*x**42 + 7*x**41 + 7*x**40 + 7*x**39 + 7*x**38 + 6*x**37 + 7*x**36 + 6*x**35 + 6*x**34 + 6*x**33 + 6*x**32 + 5*x**31 + 6*x**30 + 5*x**29 + 5*x**28 + 5*x**27 + 5*x**26 + 4*x**25 + 5*x**24 + 4*x**23 + 4*x**22 + 4*x**21 + 4*x**20 + 3*x**19 + 4*x**18 + 3*x**17 + 3*x**16 + 3*x**15 + 3*x**14 + 2*x**13 + 3*x**12 + 2*x**11 + 2*x**10 + 2*x**9 + 2*x**8 + x**7 + 2*x**6 + x**5 + x**4 + x**3 + x**2 + 1"
      ]
     },
     "execution_count": 18,
     "metadata": {},
     "output_type": "execute_result"
    }
   ],
   "source": [
    "x = sympy.Symbol(\"x\")\n",
    "\n",
    "exp_1 = 0\n",
    "for i in range (41):\n",
    "\texp_1 += x**(2*i)\n",
    "\n",
    "exp_2 = 0\n",
    "for i in range (31):\n",
    "\texp_2 += x**(3*i)\n",
    "\n",
    "sp.expand(exp_1 * exp_2)\n"
   ]
  },
  {
   "cell_type": "markdown",
   "metadata": {},
   "source": [
    "_Solution_: \n",
    "\n",
    "Yes. There are 11 ways to get 60 points and only 10 ways to get 61 points."
   ]
  }
 ],
 "metadata": {
  "kernelspec": {
   "display_name": "Python 3",
   "language": "python",
   "name": "python3"
  },
  "language_info": {
   "codemirror_mode": {
    "name": "ipython",
    "version": 3
   },
   "file_extension": ".py",
   "mimetype": "text/x-python",
   "name": "python",
   "nbconvert_exporter": "python",
   "pygments_lexer": "ipython3",
   "version": "3.12.0"
  }
 },
 "nbformat": 4,
 "nbformat_minor": 2
}
