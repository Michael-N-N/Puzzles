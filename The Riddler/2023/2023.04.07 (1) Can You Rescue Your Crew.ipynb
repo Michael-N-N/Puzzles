{
 "cells": [
  {
   "cell_type": "markdown",
   "metadata": {},
   "source": [
    "# Can You Rescue Your Crew? (1) Express (2023.04.07)\n",
    "\n",
    "link: https://fivethirtyeight.com/features/can-you-rescue-your-crew/"
   ]
  },
  {
   "cell_type": "markdown",
   "metadata": {},
   "source": [
    "## I. Puzzle"
   ]
  },
  {
   "cell_type": "markdown",
   "metadata": {},
   "source": [
    "or Easter, you and your family decide to decorate 10 beautiful eggs. You pull a fresh carton of eggs out of your fridge and remove 10 eggs. There are two eggs remaining in the carton, which you return to the fridge.\n",
    "\n",
    "The next day, you open the carton again to find that the positions of the eggs have somehow changed — or so you think. Perhaps the Easter Bunny was snooping around your fridge?\n",
    "\n",
    "The 12 slots in the carton are arranged in a six-by-two array that is symmetric upon a 180-degree rotation, and the eggs are indistinguishable from each other. How many distinct ways are there to place two eggs in this carton? (Note: Putting two eggs in the two leftmost slots should be considered the same as putting them in the two rightmost slots, since you can switch between these arrangements with a 180-degree rotation of the carton.)"
   ]
  },
  {
   "cell_type": "markdown",
   "metadata": {},
   "source": [
    "## II. Solution"
   ]
  },
  {
   "cell_type": "markdown",
   "metadata": {},
   "source": [
    "We first analyse the question without the rotation. If you put 2 indistinguishable eggs into $n$ slots there are \n",
    "\n",
    "$$X=\\binom{n}{2}= \\frac{n(n-1)}{2}$$ \n",
    "\n",
    "possibilities.\n",
    "\n",
    "Taking the rotation into account, two cases have to be considered. The first case are positions where a 180° rotation results in a different position. Therefore, theses cases are double counted. The second case are positions where a 180° rotation does not change the position and hence, we do not need to correct for double counting. To count the positions from the second case, the position must be symmetrical to the centre:  The eggs have to be in different rows and on different (horizontal) sides of the centre. The distance of the column to the centre must to be the same. Hence, the number of positions from the secons case are equal to the number of slots left or right to the centre: $n/2$. \n",
    "\n",
    "$$X=\\frac{n(n-1)-n}{2\\cdot2}+\\frac{n}{2}=\\frac{n^2}{4}$$\n",
    "\n",
    "For a carton with 12 slots there are 36 positions."
   ]
  },
  {
   "cell_type": "markdown",
   "metadata": {},
   "source": [
    "### III. Check the result"
   ]
  },
  {
   "cell_type": "code",
   "execution_count": 4,
   "metadata": {},
   "outputs": [],
   "source": [
    "import numpy as np"
   ]
  },
  {
   "cell_type": "code",
   "execution_count": 2,
   "metadata": {},
   "outputs": [
    {
     "name": "stdout",
     "output_type": "stream",
     "text": [
      "[[1. 1. 0. 0. 0. 0.]\n",
      " [0. 0. 0. 0. 0. 0.]]\n",
      "\n",
      "[[1. 0. 1. 0. 0. 0.]\n",
      " [0. 0. 0. 0. 0. 0.]]\n",
      "\n",
      "[[1. 0. 0. 1. 0. 0.]\n",
      " [0. 0. 0. 0. 0. 0.]]\n",
      "\n",
      "[[1. 0. 0. 0. 1. 0.]\n",
      " [0. 0. 0. 0. 0. 0.]]\n",
      "\n",
      "[[1. 0. 0. 0. 0. 1.]\n",
      " [0. 0. 0. 0. 0. 0.]]\n",
      "\n",
      "[[1. 0. 0. 0. 0. 0.]\n",
      " [1. 0. 0. 0. 0. 0.]]\n",
      "\n",
      "[[1. 0. 0. 0. 0. 0.]\n",
      " [0. 1. 0. 0. 0. 0.]]\n",
      "\n",
      "[[1. 0. 0. 0. 0. 0.]\n",
      " [0. 0. 1. 0. 0. 0.]]\n",
      "\n",
      "[[1. 0. 0. 0. 0. 0.]\n",
      " [0. 0. 0. 1. 0. 0.]]\n",
      "\n",
      "[[1. 0. 0. 0. 0. 0.]\n",
      " [0. 0. 0. 0. 1. 0.]]\n",
      "\n",
      "[[1. 0. 0. 0. 0. 0.]\n",
      " [0. 0. 0. 0. 0. 1.]]\n",
      "\n",
      "[[0. 1. 1. 0. 0. 0.]\n",
      " [0. 0. 0. 0. 0. 0.]]\n",
      "\n",
      "[[0. 1. 0. 1. 0. 0.]\n",
      " [0. 0. 0. 0. 0. 0.]]\n",
      "\n",
      "[[0. 1. 0. 0. 1. 0.]\n",
      " [0. 0. 0. 0. 0. 0.]]\n",
      "\n",
      "[[0. 1. 0. 0. 0. 1.]\n",
      " [0. 0. 0. 0. 0. 0.]]\n",
      "\n",
      "[[0. 1. 0. 0. 0. 0.]\n",
      " [1. 0. 0. 0. 0. 0.]]\n",
      "\n",
      "[[0. 1. 0. 0. 0. 0.]\n",
      " [0. 1. 0. 0. 0. 0.]]\n",
      "\n",
      "[[0. 1. 0. 0. 0. 0.]\n",
      " [0. 0. 1. 0. 0. 0.]]\n",
      "\n",
      "[[0. 1. 0. 0. 0. 0.]\n",
      " [0. 0. 0. 1. 0. 0.]]\n",
      "\n",
      "[[0. 1. 0. 0. 0. 0.]\n",
      " [0. 0. 0. 0. 1. 0.]]\n",
      "\n",
      "[[0. 0. 1. 1. 0. 0.]\n",
      " [0. 0. 0. 0. 0. 0.]]\n",
      "\n",
      "[[0. 0. 1. 0. 1. 0.]\n",
      " [0. 0. 0. 0. 0. 0.]]\n",
      "\n",
      "[[0. 0. 1. 0. 0. 1.]\n",
      " [0. 0. 0. 0. 0. 0.]]\n",
      "\n",
      "[[0. 0. 1. 0. 0. 0.]\n",
      " [1. 0. 0. 0. 0. 0.]]\n",
      "\n",
      "[[0. 0. 1. 0. 0. 0.]\n",
      " [0. 1. 0. 0. 0. 0.]]\n",
      "\n",
      "[[0. 0. 1. 0. 0. 0.]\n",
      " [0. 0. 1. 0. 0. 0.]]\n",
      "\n",
      "[[0. 0. 1. 0. 0. 0.]\n",
      " [0. 0. 0. 1. 0. 0.]]\n",
      "\n",
      "[[0. 0. 0. 1. 1. 0.]\n",
      " [0. 0. 0. 0. 0. 0.]]\n",
      "\n",
      "[[0. 0. 0. 1. 0. 1.]\n",
      " [0. 0. 0. 0. 0. 0.]]\n",
      "\n",
      "[[0. 0. 0. 1. 0. 0.]\n",
      " [1. 0. 0. 0. 0. 0.]]\n",
      "\n",
      "[[0. 0. 0. 1. 0. 0.]\n",
      " [0. 1. 0. 0. 0. 0.]]\n",
      "\n",
      "[[0. 0. 0. 1. 0. 0.]\n",
      " [0. 0. 1. 0. 0. 0.]]\n",
      "\n",
      "[[0. 0. 0. 0. 1. 1.]\n",
      " [0. 0. 0. 0. 0. 0.]]\n",
      "\n",
      "[[0. 0. 0. 0. 1. 0.]\n",
      " [1. 0. 0. 0. 0. 0.]]\n",
      "\n",
      "[[0. 0. 0. 0. 1. 0.]\n",
      " [0. 1. 0. 0. 0. 0.]]\n",
      "\n",
      "[[0. 0. 0. 0. 0. 1.]\n",
      " [1. 0. 0. 0. 0. 0.]]\n",
      "\n",
      "Solution: 36\n"
     ]
    }
   ],
   "source": [
    "rows = 2\n",
    "columns = 6\n",
    "eggs = 2\n",
    "\n",
    "comb = list()\n",
    "carton = np.zeros(rows*columns)\n",
    "\n",
    "for egg_1 in range(rows*columns):\n",
    "\tfor egg_2 in range(egg_1+1, rows*columns):\n",
    "\t\tc = carton.copy()\n",
    "\t\tc[egg_1] = 1\n",
    "\t\tc[egg_2] = 1\n",
    "\t\t\n",
    "\t\tc = c.reshape(rows, columns)\n",
    "\t\tcomb.append(c)\n",
    "\t\t\n",
    "solutions = list() \n",
    "\n",
    "for arr in comb:\n",
    "    if not any(np.array_equal(arr, i) for i in solutions):\n",
    "        arr_rotation = np.flip(arr)\n",
    "        if not any(np.array_equal(arr_rotation, i) for i in solutions):\n",
    "        \tsolutions.append(arr)\n",
    "        \n",
    "for s in solutions:\n",
    "\tprint(f'{s}\\n')\n",
    "\n",
    "print(f'Solution: {len(solutions)}')"
   ]
  }
 ],
 "metadata": {
  "kernelspec": {
   "display_name": "Python 3",
   "language": "python",
   "name": "python3"
  },
  "language_info": {
   "codemirror_mode": {
    "name": "ipython",
    "version": 3
   },
   "file_extension": ".py",
   "mimetype": "text/x-python",
   "name": "python",
   "nbconvert_exporter": "python",
   "pygments_lexer": "ipython3",
   "version": "3.12.0"
  }
 },
 "nbformat": 4,
 "nbformat_minor": 2
}
